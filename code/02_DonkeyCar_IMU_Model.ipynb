{
 "cells": [
  {
   "cell_type": "markdown",
   "id": "1dabfb61-8e59-4b51-a5cb-b02d7f12b240",
   "metadata": {},
   "source": [
    "# Donkey Car IMU Model\n",
    "\n",
    "Build and run a Keras model copied from Donkey Car.\n",
    "\n",
    "* The IMU model has been modified to accept larger telemetry inputs\n",
    "* RNN-LSTM has been modified to accept IMU/telemetry"
   ]
  },
  {
   "cell_type": "code",
   "execution_count": 1,
   "id": "8a186988-1c64-48d0-984a-6c15b299587c",
   "metadata": {},
   "outputs": [
    {
     "name": "stderr",
     "output_type": "stream",
     "text": [
      "2022-01-21 15:49:47.848250: I tensorflow/stream_executor/platform/default/dso_loader.cc:49] Successfully opened dynamic library libcudart.so.10.1\n"
     ]
    }
   ],
   "source": [
    "## Imports\n",
    "import numpy as np\n",
    "import pandas as pd\n",
    "import tensorflow as tf\n",
    "import time\n",
    "import pickle\n",
    "import sklearn.metrics as metrics\n",
    "from os.path import exists\n",
    "\n",
    "from modeling_methods import run_model, plot_metrics, save_model, create_donkey_vimu\n",
    "from sklearn.model_selection import train_test_split\n",
    "from sklearn.preprocessing import MinMaxScaler, RobustScaler, StandardScaler\n",
    "from tensorflow.keras.metrics import MAE, MSE, RootMeanSquaredError\n",
    "from tensorflow.keras.optimizers import Adam"
   ]
  },
  {
   "cell_type": "markdown",
   "id": "2cb5092b-eea1-4842-88b0-06e113d7e87f",
   "metadata": {},
   "source": [
    "## Directories/Variables"
   ]
  },
  {
   "cell_type": "code",
   "execution_count": 2,
   "id": "eb758b89-e437-47a8-97c4-7f5e3d761a89",
   "metadata": {},
   "outputs": [],
   "source": [
    "## Fill in your own here\n",
    "dataset_directory = '../data/01_21_2022/15_38_24'"
   ]
  },
  {
   "cell_type": "code",
   "execution_count": 3,
   "id": "db63f4ff-a88a-47b4-9400-b2c706a22932",
   "metadata": {},
   "outputs": [],
   "source": [
    "## Directories\n",
    "model_directory = f'../models'\n",
    "\n",
    "## File paths\n",
    "cam_input_dataset_file = f'{dataset_directory}/X_img.npy'\n",
    "telem_input_dataset_file = f'{dataset_directory}/X_telem.pkl'\n",
    "target_dataset_file = f'{dataset_directory}/y.npy'\n",
    "\n",
    "## Parameters\n",
    "scaler_type = 'robust' # minmax/robust/standard \n",
    "# batch_sizes = [4, 8, 16, 32, 64,] # 128, 256, 512, 1024, 2048]\n",
    "batch_sizes = [32, 64, 128, 256, 512, 1024]\n",
    "# batch_sizes = [2048]\n",
    "early_stop_patience = 5 # None for no stop\n",
    "epochs = 250\n",
    "dual_outputs = False\n",
    "create_model = create_donkey_vimu # create_donkey_lstm, create_donkey_vimu"
   ]
  },
  {
   "cell_type": "code",
   "execution_count": 4,
   "id": "60e91105-a195-4dcf-b56e-edf34ebb0d8e",
   "metadata": {},
   "outputs": [],
   "source": [
    "scalers = {\n",
    "    'minmax': MinMaxScaler,\n",
    "    'robust': RobustScaler,\n",
    "    'standard': StandardScaler,\n",
    "}"
   ]
  },
  {
   "cell_type": "markdown",
   "id": "4e66a8ab-bbb0-4f96-ba3d-ba42832a9346",
   "metadata": {},
   "source": [
    "## Data"
   ]
  },
  {
   "cell_type": "markdown",
   "id": "575b8488-ad46-4de0-a67f-d89c9c98912a",
   "metadata": {},
   "source": [
    "### Load Datasets"
   ]
  },
  {
   "cell_type": "code",
   "execution_count": 5,
   "id": "451f5725-213b-4492-bc82-202c86181efc",
   "metadata": {},
   "outputs": [
    {
     "data": {
      "text/plain": [
       "(145938, 120, 160, 1)"
      ]
     },
     "execution_count": 5,
     "metadata": {},
     "output_type": "execute_result"
    }
   ],
   "source": [
    "## Load the datasets\n",
    "X_cam = np.load(cam_input_dataset_file)\n",
    "\n",
    "## Load telemetry as df to grab telemetry column names\n",
    "telem_df = pd.read_pickle(telem_input_dataset_file)\n",
    "telemetry_columns = telem_df.columns\n",
    "## Conver to numpy, delete df\n",
    "X_telem = telem_df.to_numpy()\n",
    "del telem_df\n",
    "\n",
    "## Load targets\n",
    "y = np.load(target_dataset_file, mmap_mode='r')\n",
    "\n",
    "## Check Shape\n",
    "X_cam.shape"
   ]
  },
  {
   "cell_type": "markdown",
   "id": "9024459d-2092-4448-b76b-1163bac9130b",
   "metadata": {},
   "source": [
    "### Train-Test Split"
   ]
  },
  {
   "cell_type": "code",
   "execution_count": 6,
   "id": "30558a03-f187-479b-9fea-eea61290f67f",
   "metadata": {},
   "outputs": [],
   "source": [
    "if dual_outputs:\n",
    "    # steering = y[:, 0], throttle = y[:, 1]\n",
    "    datasets = train_test_split(X_cam, X_telem, y[:, 0], y[:, 1], test_size=0.2, random_state=0)\n",
    "else:\n",
    "    datasets = train_test_split(X_cam, X_telem, y, test_size=0.2, random_state=0)\n",
    "\n",
    "del X_telem\n",
    "del X_cam\n",
    "    \n",
    "X_cam_train = datasets[0]\n",
    "X_cam_test = datasets[1]\n",
    "X_telem_train = datasets[2]\n",
    "X_telem_test = datasets[3]\n",
    "y_train = datasets[4]\n",
    "y_test = datasets[5]\n",
    "    \n",
    "if dual_outputs:\n",
    "    y_st_train = datasets[4]\n",
    "    y_st_test = datasets[5]\n",
    "    y_th_train = datasets[6]\n",
    "    y_th_test = datasets[7]"
   ]
  },
  {
   "cell_type": "markdown",
   "id": "001361f5-0f0a-496e-8e26-846e12c0be7e",
   "metadata": {
    "tags": []
   },
   "source": [
    "### Scale IMU Data"
   ]
  },
  {
   "cell_type": "code",
   "execution_count": 7,
   "id": "676b1e05-40e4-4cf0-986d-4b5094637c0b",
   "metadata": {
    "tags": []
   },
   "outputs": [],
   "source": [
    "scaler_file = f'{scaler_type}_scaler_{time.strftime(\"%m_%d_%H_%M\")}.pkl'\n",
    "scaler_path = f'../scalers/{scaler_file}'\n",
    "\n",
    "sc = scalers[scaler_type]()\n",
    "    \n",
    "## Fit to then and transform training data\n",
    "X_telem_train_sc = sc.fit_transform(X_telem_train)\n",
    "## Transform testing data\n",
    "X_telem_test_sc = sc.transform(X_telem_test)"
   ]
  },
  {
   "cell_type": "markdown",
   "id": "86a507fa-f488-442a-bcc2-9943507140be",
   "metadata": {
    "tags": []
   },
   "source": [
    "### Save the Scaler for Predictions"
   ]
  },
  {
   "cell_type": "code",
   "execution_count": 8,
   "id": "1ac8d37d-8624-4631-8246-f8079cb91f28",
   "metadata": {
    "tags": []
   },
   "outputs": [
    {
     "data": {
      "text/plain": [
       "'robust_scaler_01_21_15_50.pkl'"
      ]
     },
     "execution_count": 8,
     "metadata": {},
     "output_type": "execute_result"
    }
   ],
   "source": [
    "## Save as pickle\n",
    "pickle.dump(sc, open(scaler_path, 'wb'))\n",
    "\n",
    "## Print path\n",
    "scaler_file"
   ]
  },
  {
   "cell_type": "markdown",
   "id": "0dd46a7b-3435-4a05-afcc-274e3af58264",
   "metadata": {},
   "source": [
    "### Get Input Shape(s)"
   ]
  },
  {
   "cell_type": "code",
   "execution_count": 9,
   "id": "576a58b8-4b6b-4123-b4ad-9a4a83df348a",
   "metadata": {},
   "outputs": [
    {
     "data": {
      "text/plain": [
       "(3,)"
      ]
     },
     "execution_count": 9,
     "metadata": {},
     "output_type": "execute_result"
    }
   ],
   "source": [
    "## Create variables\n",
    "cam_input_shape = X_cam_train[0].shape\n",
    "telem_input_shape = X_telem_train_sc[0].shape\n",
    "\n",
    "## Check telemetry input shape\n",
    "telem_input_shape"
   ]
  },
  {
   "cell_type": "markdown",
   "id": "b51ada31-38b8-4741-8e56-6c0c8038777b",
   "metadata": {},
   "source": [
    "## Model Loop"
   ]
  },
  {
   "cell_type": "code",
   "execution_count": null,
   "id": "0febfbaa-d815-45d4-9c60-7c069f767e5a",
   "metadata": {
    "tags": []
   },
   "outputs": [],
   "source": [
    "X_train = [X_cam_train, X_telem_train_sc]\n",
    "X_test = (X_cam_test, X_telem_test_sc)\n",
    "\n",
    "\n",
    "if dual_outputs:\n",
    "    y_train = (y_st_train, y_th_train)\n",
    "    y_test = (y_st_test, y_th_test)\n",
    "else:\n",
    "    y_train = y_train\n",
    "    y_test = y_test\n",
    "\n",
    "## Run models for each batch size\n",
    "print('---')\n",
    "for batch_size in batch_sizes:\n",
    "    print(f'Batch size {batch_size} start: {time.strftime(\"%H:%M:%S\")}')\n",
    "    model = create_model(cam_input_shape, telem_input_shape, dual_outputs)\n",
    "    model.compile(loss='mse', \n",
    "                  optimizer=Adam(learning_rate=0.0001), \n",
    "                  metrics=['mae', RootMeanSquaredError()])\n",
    "    model, results = run_model(model, X_train, y_train, X_test, y_test, \n",
    "                               batch_size, epochs,\n",
    "                              early_stop_patience=early_stop_patience)\n",
    "    model_file = save_model(model_directory, model, results, batch_size, \n",
    "                            dual_outputs, scaler_file, telemetry_columns)\n",
    "    history = {k: v for k, v in results.history.items()}\n",
    "    plot_metrics(history, batch_size, dual_outputs)\n",
    "    print(f'Batch size {batch_size} end:   {time.strftime(\"%H:%M:%S\")}')\n",
    "    print(f'Epochs run: {len(history[\"loss\"])}')\n",
    "    print(f'model: {model_file}')\n",
    "    print('---')\n",
    "    del model\n",
    "    del results\n",
    "# model_history.tail(len(batch_sizes))"
   ]
  }
 ],
 "metadata": {
  "kernelspec": {
   "display_name": "Python 3 (ipykernel)",
   "language": "python",
   "name": "python3"
  },
  "language_info": {
   "codemirror_mode": {
    "name": "ipython",
    "version": 3
   },
   "file_extension": ".py",
   "mimetype": "text/x-python",
   "name": "python",
   "nbconvert_exporter": "python",
   "pygments_lexer": "ipython3",
   "version": "3.8.8"
  }
 },
 "nbformat": 4,
 "nbformat_minor": 5
}
