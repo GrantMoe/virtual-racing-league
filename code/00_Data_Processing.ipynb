{
 "cells": [
  {
   "cell_type": "markdown",
   "id": "da1de231-e9e8-4f0b-8758-b67011969f80",
   "metadata": {
    "tags": []
   },
   "source": [
    "# Data Processing\n",
    "\n",
    "Determine which laps to keep while avoiding eliminating all first laps. Bleh.\n",
    "1. Import telemetry .csv\n",
    "1. Import image data\n",
    "1. Convert image data\n",
    "1. Save image, telemetry, and target datasets"
   ]
  },
  {
   "cell_type": "code",
   "execution_count": 1,
   "id": "ca6f1792-6e54-4a32-9efb-e2052c199a6c",
   "metadata": {},
   "outputs": [
    {
     "name": "stderr",
     "output_type": "stream",
     "text": [
      "2022-05-09 00:47:14.166083: I tensorflow/stream_executor/platform/default/dso_loader.cc:53] Successfully opened dynamic library libcudart.so.11.0\n"
     ]
    }
   ],
   "source": [
    "## Imports\n",
    "import os\n",
    "import pickle\n",
    "import time\n",
    "\n",
    "import numpy as np\n",
    "import matplotlib.pyplot as plt\n",
    "import pandas as pd\n",
    "import seaborn as sns\n",
    "\n",
    "from pathlib import Path\n",
    "from PIL import Image\n",
    "from tensorflow.keras.preprocessing.image import img_to_array, load_img"
   ]
  },
  {
   "cell_type": "code",
   "execution_count": 2,
   "id": "118f6064-c2cd-4ae8-8d4c-b8db13d31667",
   "metadata": {},
   "outputs": [],
   "source": [
    "seed = 1337\n",
    "np.random.seed(seed)"
   ]
  },
  {
   "cell_type": "code",
   "execution_count": 3,
   "id": "e069a875-06b8-49eb-862e-acbf4b9133a0",
   "metadata": {},
   "outputs": [],
   "source": [
    "## Configuration\n",
    "equalize_classes = True\n",
    "dataset_max_size = 100_000\n",
    "image_format = 'png' # jpg, png\n",
    "lap_min_cutoff = 18\n",
    "lap_max_cutoff = 20\n",
    "\n",
    "# negative values shift \"upwards\", which will associate the screen with my actual reaction to it\n",
    "target_shift = -3\n",
    "\n",
    "# Telemetry\n",
    "# imu_data = ['accel_x', 'accel_y', 'accel_z', 'gyro_x', 'gyro_y', 'gyro_z',]\n",
    "telemetry_data = ['speed', 'pitch', 'yaw', 'roll', 'first_lap']\n",
    "telemetry_columns = telemetry_data"
   ]
  },
  {
   "cell_type": "code",
   "execution_count": 4,
   "id": "a133866a-e730-4b89-891d-e5687e82bc80",
   "metadata": {},
   "outputs": [],
   "source": [
    "# Directories\n",
    "data_directory = Path('../data')\n",
    "records_directory = data_directory / 'records'\n",
    "datasets_directory = data_directory / 'datasets' / time.strftime(\"%m_%d_%Y/%H_%M_%S\")\n",
    "\n",
    "# File paths\n",
    "image_dataset_file = datasets_directory / 'X_img.npy'\n",
    "telem_dataset_file = datasets_directory / 'X_telem.pkl'\n",
    "target_dataset_file = datasets_directory / 'y.npy'\n",
    "\n",
    "# For plotting\n",
    "combined_laps_file = datasets_directory / 'processed_laps.pkl'\n",
    "first_laps_file = datasets_directory / 'first_laps.pkl'\n",
    "later_laps_file = datasets_directory / 'later_laps.pkl'\n",
    "lap_stats_csv = datasets_directory / 'lap_stats.csv'\n",
    "\n",
    "## Make sure directoires exist\n",
    "os.makedirs(data_directory, exist_ok=True)\n",
    "os.makedirs(datasets_directory, exist_ok=True)"
   ]
  },
  {
   "cell_type": "code",
   "execution_count": 5,
   "id": "c864230e-116b-4e11-ad66-4075cb3f7c62",
   "metadata": {},
   "outputs": [],
   "source": [
    "csv_files = list(records_directory.glob('**/data.csv'))\n",
    "n_files = len(csv_files)\n",
    "data_dfs = []\n",
    "\n",
    "for csv_path in csv_files:\n",
    "    temp_df = pd.read_csv(csv_path, index_col=False)\n",
    "    temp_df['folder'] = csv_path.parts[-3] + '/' + csv_path.parts[-2]\n",
    "    # shift if required\n",
    "    temp_df.loc[ :, ['steering', 'throttle']] = temp_df.loc[ :, ['steering', 'throttle']].shift(target_shift)\n",
    "    # remove partial pre-first and last laps\n",
    "    temp_df = temp_df.loc[(temp_df['lap'] != 0) & (temp_df['lap'] != temp_df['lap'].max()), :]\n",
    "    data_dfs.append(temp_df.copy())\n",
    "df = pd.concat(data_dfs)\n",
    "df = df.reset_index(drop=True).copy()\n",
    "df.head()\n",
    "data_dfs = None\n",
    "del data_dfs"
   ]
  },
  {
   "cell_type": "markdown",
   "id": "5cc990eb-d724-4d12-8337-d4542149de1b",
   "metadata": {
    "tags": []
   },
   "source": [
    "### EDA/Cleaning"
   ]
  },
  {
   "cell_type": "code",
   "execution_count": 6,
   "id": "86182781-39ae-4ab9-8812-b7c3dda24338",
   "metadata": {},
   "outputs": [
    {
     "name": "stdout",
     "output_type": "stream",
     "text": [
      "<class 'pandas.core.frame.DataFrame'>\n",
      "RangeIndex: 973656 entries, 0 to 973655\n",
      "Data columns (total 27 columns):\n",
      " #   Column      Non-Null Count   Dtype  \n",
      "---  ------      --------------   -----  \n",
      " 0   steering    973656 non-null  float64\n",
      " 1   throttle    973656 non-null  float64\n",
      " 2   speed       973656 non-null  float64\n",
      " 3   image       973656 non-null  object \n",
      " 4   hit         973656 non-null  object \n",
      " 5   time        973656 non-null  float64\n",
      " 6   accel_x     973656 non-null  float64\n",
      " 7   accel_y     973656 non-null  float64\n",
      " 8   accel_z     973656 non-null  float64\n",
      " 9   gyro_x      973656 non-null  float64\n",
      " 10  gyro_y      973656 non-null  float64\n",
      " 11  gyro_z      973656 non-null  float64\n",
      " 12  pitch       973656 non-null  float64\n",
      " 13  yaw         973656 non-null  float64\n",
      " 14  roll        973656 non-null  float64\n",
      " 15  cte         973656 non-null  float64\n",
      " 16  activeNode  973656 non-null  object \n",
      " 17  totalNodes  973656 non-null  object \n",
      " 18  pos_x       973656 non-null  float64\n",
      " 19  pos_y       973656 non-null  float64\n",
      " 20  pos_z       973656 non-null  float64\n",
      " 21  vel_x       973656 non-null  float64\n",
      " 22  vel_y       973656 non-null  float64\n",
      " 23  vel_z       973656 non-null  float64\n",
      " 24  lap         973656 non-null  object \n",
      " 25  track       973656 non-null  object \n",
      " 26  folder      973656 non-null  object \n",
      "dtypes: float64(20), object(7)\n",
      "memory usage: 200.6+ MB\n"
     ]
    }
   ],
   "source": [
    "df.info()"
   ]
  },
  {
   "cell_type": "markdown",
   "id": "ae74d200-3fd9-48cc-a9fe-07119d198632",
   "metadata": {},
   "source": [
    "#### Drop NAs\n",
    "(These can exist due to the time shift, if any)"
   ]
  },
  {
   "cell_type": "code",
   "execution_count": 7,
   "id": "1535a84a-7465-4357-9a4d-3b6ed9117b97",
   "metadata": {},
   "outputs": [
    {
     "name": "stdout",
     "output_type": "stream",
     "text": [
      "null records: 0\n"
     ]
    }
   ],
   "source": [
    "print(f'null records: {df.isna().sum().sum()}')\n",
    "df = df.dropna().copy()"
   ]
  },
  {
   "cell_type": "markdown",
   "id": "ed8f74da-ad72-498a-a051-bd54725e010c",
   "metadata": {},
   "source": [
    "#### Convert dtypes to save space (?)"
   ]
  },
  {
   "cell_type": "code",
   "execution_count": 8,
   "id": "ac2da85c-d310-46e9-a460-305335d1992e",
   "metadata": {},
   "outputs": [],
   "source": [
    "# print(f\"before: {sys.getsizeof(df)}\")\n",
    "\n",
    "# for col in df.columns:\n",
    "#     if df[col].dtype == 'float':\n",
    "#         df[col] = pd.to_numeric(df[col], downcast='float')\n",
    "\n",
    "# int_cols = ['activeNode','lap']\n",
    "# for ic in int_cols:\n",
    "#     df.loc[:,ic] = pd.to_numeric(df[ic], downcast='unsigned')\n",
    "\n",
    "# print(f\"after: {sys.getsizeof(df)}\") "
   ]
  },
  {
   "cell_type": "markdown",
   "id": "e21c1f73-92cb-46df-8463-22e5b70e46ff",
   "metadata": {
    "tags": []
   },
   "source": [
    "### Lap Filters"
   ]
  },
  {
   "cell_type": "markdown",
   "id": "0329f4a7-96cd-43dc-ae4b-4d31ed11eb2e",
   "metadata": {},
   "source": [
    "#### Create lap data df"
   ]
  },
  {
   "cell_type": "code",
   "execution_count": 9,
   "id": "075b1743-b4ea-4080-915f-4b48d9a5c16f",
   "metadata": {
    "tags": []
   },
   "outputs": [
    {
     "data": {
      "text/html": [
       "<div>\n",
       "<style scoped>\n",
       "    .dataframe tbody tr th:only-of-type {\n",
       "        vertical-align: middle;\n",
       "    }\n",
       "\n",
       "    .dataframe tbody tr th {\n",
       "        vertical-align: top;\n",
       "    }\n",
       "\n",
       "    .dataframe thead th {\n",
       "        text-align: right;\n",
       "    }\n",
       "</style>\n",
       "<table border=\"1\" class=\"dataframe\">\n",
       "  <thead>\n",
       "    <tr style=\"text-align: right;\">\n",
       "      <th></th>\n",
       "      <th>max</th>\n",
       "      <th>min</th>\n",
       "      <th>full</th>\n",
       "      <th>clean</th>\n",
       "    </tr>\n",
       "    <tr>\n",
       "      <th>folder_lap</th>\n",
       "      <th></th>\n",
       "      <th></th>\n",
       "      <th></th>\n",
       "      <th></th>\n",
       "    </tr>\n",
       "  </thead>\n",
       "  <tbody>\n",
       "    <tr>\n",
       "      <th>04_03_2022/12_43_08_1</th>\n",
       "      <td>50.09274</td>\n",
       "      <td>29.74274</td>\n",
       "      <td>True</td>\n",
       "      <td>True</td>\n",
       "    </tr>\n",
       "    <tr>\n",
       "      <th>04_03_2022/12_43_51_1</th>\n",
       "      <td>93.02274</td>\n",
       "      <td>72.72274</td>\n",
       "      <td>True</td>\n",
       "      <td>False</td>\n",
       "    </tr>\n",
       "    <tr>\n",
       "      <th>04_03_2022/12_43_51_2</th>\n",
       "      <td>112.02270</td>\n",
       "      <td>93.07274</td>\n",
       "      <td>True</td>\n",
       "      <td>True</td>\n",
       "    </tr>\n",
       "    <tr>\n",
       "      <th>04_03_2022/12_45_47_1</th>\n",
       "      <td>209.57270</td>\n",
       "      <td>188.62270</td>\n",
       "      <td>True</td>\n",
       "      <td>True</td>\n",
       "    </tr>\n",
       "    <tr>\n",
       "      <th>04_03_2022/12_46_22_1</th>\n",
       "      <td>244.28270</td>\n",
       "      <td>224.23270</td>\n",
       "      <td>True</td>\n",
       "      <td>True</td>\n",
       "    </tr>\n",
       "  </tbody>\n",
       "</table>\n",
       "</div>"
      ],
      "text/plain": [
       "                             max        min  full  clean\n",
       "folder_lap                                              \n",
       "04_03_2022/12_43_08_1   50.09274   29.74274  True   True\n",
       "04_03_2022/12_43_51_1   93.02274   72.72274  True  False\n",
       "04_03_2022/12_43_51_2  112.02270   93.07274  True   True\n",
       "04_03_2022/12_45_47_1  209.57270  188.62270  True   True\n",
       "04_03_2022/12_46_22_1  244.28270  224.23270  True   True"
      ]
     },
     "execution_count": 9,
     "metadata": {},
     "output_type": "execute_result"
    }
   ],
   "source": [
    "df['folder_lap'] = df['folder'] + '_' + df['lap'].astype(str)\n",
    "\n",
    "laps = pd.DataFrame(df.groupby(by='folder_lap')['time'].describe()[['max', 'min']])\n",
    "laps['full'] = df.groupby(by='folder_lap')['activeNode'].nunique() > 245 # some wiggle room but seems to be moot now\n",
    "laps['clean'] = df.groupby(by='folder_lap')['hit'].nunique() == 1 # only hit nothing\n",
    "\n",
    "laps.head()"
   ]
  },
  {
   "cell_type": "markdown",
   "id": "39c227af-d0fa-477e-bde8-db67b96604e7",
   "metadata": {
    "tags": []
   },
   "source": [
    "#### Calculate lap times"
   ]
  },
  {
   "cell_type": "code",
   "execution_count": 10,
   "id": "62e97abe-0e14-488c-8078-0ea7e456bffd",
   "metadata": {},
   "outputs": [
    {
     "data": {
      "text/plain": [
       "count    2607.000000\n",
       "mean       18.623880\n",
       "std         0.649898\n",
       "min        18.099000\n",
       "25%        18.300000\n",
       "50%        18.400000\n",
       "75%        18.700000\n",
       "max        30.350002\n",
       "Name: lap_time, dtype: float64"
      ]
     },
     "execution_count": 10,
     "metadata": {},
     "output_type": "execute_result"
    }
   ],
   "source": [
    "laps['lap_time'] = laps['max'] - laps['min']\n",
    "laps['lap_time'].describe()"
   ]
  },
  {
   "cell_type": "code",
   "execution_count": 11,
   "id": "cadc2c77-cea6-4b5c-9b42-d1795b26df65",
   "metadata": {
    "tags": []
   },
   "outputs": [
    {
     "data": {
      "image/png": "[encoded data removed]",
      "text/plain": [
       "<Figure size 720x720 with 2 Axes>"
      ]
     },
     "metadata": {
      "needs_background": "light"
     },
     "output_type": "display_data"
    }
   ],
   "source": [
    "fig, ax = plt.subplots(2, 1, figsize=(10,10))\n",
    "plt.suptitle('Distribution of All Lap Times', size=15)\n",
    "ax[0] = sns.histplot(x='lap_time', data=laps, bins='auto', ax=ax[0])\n",
    "ax[0].set_xlabel('Lap Time (Seconds)', size=12)\n",
    "ax[1] = sns.boxplot(x='lap_time', data=laps, ax=ax[1])\n",
    "ax[1].set_xlabel('Lap Time (Seconds)', size=12)\n",
    "plt.tight_layout();"
   ]
  },
  {
   "cell_type": "markdown",
   "id": "5985dcde-3f58-44ba-92cc-983de7b32b5f",
   "metadata": {
    "tags": []
   },
   "source": [
    "#### Filter df with lap data"
   ]
  },
  {
   "cell_type": "code",
   "execution_count": 12,
   "id": "b2a907a9-87e9-4e70-a616-3b73efe98457",
   "metadata": {
    "tags": []
   },
   "outputs": [
    {
     "data": {
      "text/plain": [
       "count    645777.000000\n",
       "mean         18.469126\n",
       "std           0.304921\n",
       "min          18.099000\n",
       "25%          18.250000\n",
       "50%          18.351000\n",
       "75%          18.600000\n",
       "max          19.700000\n",
       "Name: lap_time, dtype: float64"
      ]
     },
     "execution_count": 12,
     "metadata": {},
     "output_type": "execute_result"
    }
   ],
   "source": [
    "## keep only full laps without collisions\n",
    "df = df[list(laps.loc[df['folder_lap'],['clean', 'full']].all(axis=1))]\n",
    "\n",
    "## merge in lap times\n",
    "df = pd.merge(left=df, right=laps['lap_time'], left_on='folder_lap', right_index=True).copy()\n",
    "\n",
    "## cut out laps that are too slow or too fast\n",
    "df = df.loc[(df['lap_time'] < lap_max_cutoff) & (df['lap_time'] > lap_min_cutoff), :].copy()\n",
    "\n",
    "df['lap_time'].describe()"
   ]
  },
  {
   "cell_type": "code",
   "execution_count": 13,
   "id": "e19fa3bd-e14a-4aea-822e-a4243443811e",
   "metadata": {
    "tags": []
   },
   "outputs": [
    {
     "data": {
      "image/png": "[encoded data removed]",
      "text/plain": [
       "<Figure size 720x720 with 2 Axes>"
      ]
     },
     "metadata": {
      "needs_background": "light"
     },
     "output_type": "display_data"
    }
   ],
   "source": [
    "laps = pd.DataFrame(df.groupby(by='folder_lap')['time'].describe()[['max', 'min']])\n",
    "laps['lap_time'] = laps['max'] - laps['min']\n",
    "\n",
    "# laps = laps.loc[(laps['lap_time'] < lap_max_cutoff) & (laps['lap_time'] > lap_min_cutoff), :].copy()\n",
    "\n",
    "fig, ax = plt.subplots(2, 1, figsize=(10,10))\n",
    "plt.suptitle(f'Distribution of Lap Times from {lap_min_cutoff} to {lap_max_cutoff} Seconds', size=15)\n",
    "ax[0] = sns.histplot(x='lap_time', data=laps, bins='auto', ax=ax[0])\n",
    "ax[0].set_xlabel('Lap Time (Seconds)', size=12)\n",
    "ax[1] = sns.boxplot(x='lap_time', data=laps, ax=ax[1])\n",
    "ax[1].set_xlabel('Lap Time (Seconds)', size=12)\n",
    "plt.tight_layout();"
   ]
  },
  {
   "cell_type": "markdown",
   "id": "01484a1d-a26d-4a68-b2bb-0d3eab53cd24",
   "metadata": {},
   "source": [
    "#### Separate lap types"
   ]
  },
  {
   "cell_type": "code",
   "execution_count": 14,
   "id": "4495e403-5fba-4ac1-b415-c0821118791a",
   "metadata": {
    "tags": []
   },
   "outputs": [],
   "source": [
    "df_first_laps = df.loc[df['lap'] == 1, :].copy()\n",
    "df_later_laps = df.loc[df['lap'] > 1, :].copy()"
   ]
  },
  {
   "cell_type": "markdown",
   "id": "09ee5426-e04a-40e1-b23b-b6731532a9f8",
   "metadata": {},
   "source": [
    "#### First laps"
   ]
  },
  {
   "cell_type": "code",
   "execution_count": 15,
   "id": "9fa29ee6-6469-4930-8e9f-adb75ddd1c7b",
   "metadata": {
    "tags": []
   },
   "outputs": [
    {
     "name": "stdout",
     "output_type": "stream",
     "text": [
      "First laps: 41\n"
     ]
    },
    {
     "data": {
      "text/plain": [
       "count    16135.000000\n",
       "mean        19.626886\n",
       "std          0.039948\n",
       "min         19.550000\n",
       "25%         19.600000\n",
       "50%         19.649990\n",
       "75%         19.650000\n",
       "max         19.700000\n",
       "Name: lap_time, dtype: float64"
      ]
     },
     "execution_count": 15,
     "metadata": {},
     "output_type": "execute_result"
    }
   ],
   "source": [
    "print(f\"First laps: {len(df_first_laps['folder_lap'].unique())}\")\n",
    "df_first_laps['lap_time'].describe()"
   ]
  },
  {
   "cell_type": "markdown",
   "id": "7cb0141d-7d63-41e9-97df-68d456f8175f",
   "metadata": {},
   "source": [
    "##### Pare outliers from first laps"
   ]
  },
  {
   "cell_type": "code",
   "execution_count": 16,
   "id": "21a1d6d4-3257-4beb-860f-4c50a8a069ce",
   "metadata": {},
   "outputs": [
    {
     "name": "stdout",
     "output_type": "stream",
     "text": [
      "records before cut: 16135\n",
      "laps before cut: 41\n",
      "---------\n",
      "records after cut: 16135\n",
      "laps after cut: 41\n"
     ]
    }
   ],
   "source": [
    "first_lap_cut = 20 # entirely arbitrary\n",
    "print(f\"records before cut: {len(df_first_laps)}\") #.loc[df_first_laps['lap_time'] <= first_lap_cut, :])}\")\n",
    "print(f'laps before cut: {len(df_first_laps[\"folder_lap\"].unique())}\\n---------')\n",
    "df_first_laps = df_first_laps.loc[df_first_laps['lap_time'] <= first_lap_cut, :].copy()\n",
    "print(f'records after cut: {len(df_first_laps)}')\n",
    "print(f'laps after cut: {len(df_first_laps[\"folder_lap\"].unique())}')"
   ]
  },
  {
   "cell_type": "code",
   "execution_count": 17,
   "id": "d83d419e-edc1-467e-ac1b-7ab6c5b98998",
   "metadata": {},
   "outputs": [
    {
     "data": {
      "image/png": "[encoded data removed]",
      "text/plain": [
       "<Figure size 720x720 with 2 Axes>"
      ]
     },
     "metadata": {
      "needs_background": "light"
     },
     "output_type": "display_data"
    }
   ],
   "source": [
    "fig, ax = plt.subplots(2, 1, figsize=(10,10))\n",
    "plt.suptitle('Distribution of Lap Times in Seconds: First Laps', size=15)\n",
    "ax[0] = sns.histplot(x=df_first_laps['lap_time'].unique(), bins='auto', ax=ax[0])\n",
    "ax[0].set_xlabel('Lap Time (Seconds)', size=12)\n",
    "ax[1] = sns.boxplot(x=df_first_laps['lap_time'].unique(), ax=ax[1])\n",
    "ax[1].set_xlabel('Lap Time (Seconds)', size=12)\n",
    "plt.tight_layout();"
   ]
  },
  {
   "cell_type": "markdown",
   "id": "0ca75cbc-a2dd-414d-8e3f-cce68a5fe204",
   "metadata": {
    "tags": []
   },
   "source": [
    "#### Later laps"
   ]
  },
  {
   "cell_type": "code",
   "execution_count": 18,
   "id": "796c9257-eb27-4678-9b01-d371004392dc",
   "metadata": {},
   "outputs": [
    {
     "data": {
      "text/plain": [
       "count    629642.000000\n",
       "mean         18.439458\n",
       "std           0.245132\n",
       "min          18.099000\n",
       "25%          18.250000\n",
       "50%          18.350000\n",
       "75%          18.550000\n",
       "max          19.650000\n",
       "Name: lap_time, dtype: float64"
      ]
     },
     "execution_count": 18,
     "metadata": {},
     "output_type": "execute_result"
    }
   ],
   "source": [
    "df_later_laps['lap_time'].describe()"
   ]
  },
  {
   "cell_type": "markdown",
   "id": "5e0c4cf8-52be-4d31-bca9-0a47a65c99fa",
   "metadata": {},
   "source": [
    "##### Pare outliers from later lap times"
   ]
  },
  {
   "cell_type": "code",
   "execution_count": 19,
   "id": "85ce8b28-8107-4e0f-bcee-a4a18b220cea",
   "metadata": {},
   "outputs": [
    {
     "name": "stdout",
     "output_type": "stream",
     "text": [
      "records after cut: 629642\n",
      "laps before cut: 1703\n",
      "---------\n",
      "records after cut: 62681\n",
      "laps after cut: 172\n"
     ]
    }
   ],
   "source": [
    "later_lap_cut = 18.20 # again, arbitrary\n",
    "# print(f\"less than {later_lap_cut} = {len(df_later_laps.loc[df_later_laps['lap_time'] <= later_lap_cut, :])}\")\n",
    "print(f'records after cut: {len(df_later_laps)}')\n",
    "print(f'laps before cut: {len(df_later_laps[\"folder_lap\"].unique())}\\n---------')\n",
    "df_later_laps = df_later_laps.loc[df_later_laps['lap_time'] <= later_lap_cut, :].copy()\n",
    "\n",
    "print(f\"records after cut: {len(df_later_laps.loc[df_later_laps['lap_time'] <= later_lap_cut, :])}\")\n",
    "print(f'laps after cut: {len(df_later_laps.loc[df_later_laps[\"lap_time\"] <= later_lap_cut, \"folder_lap\"].unique())}')"
   ]
  },
  {
   "cell_type": "code",
   "execution_count": 20,
   "id": "151dc164-b42c-4f5c-a400-629ae9894d0d",
   "metadata": {},
   "outputs": [
    {
     "data": {
      "image/png": "[encoded data removed]",
      "text/plain": [
       "<Figure size 720x720 with 2 Axes>"
      ]
     },
     "metadata": {
      "needs_background": "light"
     },
     "output_type": "display_data"
    }
   ],
   "source": [
    "fig, ax = plt.subplots(2, 1, figsize=(10,10))\n",
    "plt.suptitle('Distribution of Lap Times in Seconds: Later Laps', size=15)\n",
    "ax[0] = sns.histplot(x=df_later_laps['lap_time'].unique(), ax=ax[0], bins=165) #bins=(len(df_later_laps['lap_time'].unique())//10), ax=ax[0])\n",
    "ax[0].set_xlabel('Lap Time (Seconds)', size=12)\n",
    "ax[1] = sns.boxplot(x=df_later_laps['lap_time'].unique(), ax=ax[1])\n",
    "ax[1].set_xlabel('Lap Time (Seconds)', size=12)\n",
    "plt.tight_layout();"
   ]
  },
  {
   "cell_type": "markdown",
   "id": "a8eb2d3a-97ea-46bd-8847-a7a317c13165",
   "metadata": {},
   "source": [
    "#### Mark lap types"
   ]
  },
  {
   "cell_type": "code",
   "execution_count": 21,
   "id": "9c8f0106-0788-42db-87c9-3720eddd5b3b",
   "metadata": {},
   "outputs": [],
   "source": [
    "df_first_laps.loc[:, 'lap_type'] = 'first'\n",
    "df_later_laps.loc[:, 'lap_type'] = 'later'"
   ]
  },
  {
   "cell_type": "code",
   "execution_count": 22,
   "id": "5e142973-52bd-4f95-971e-e8ecec041b24",
   "metadata": {},
   "outputs": [
    {
     "name": "stdout",
     "output_type": "stream",
     "text": [
      "len(df_first_laps) = 16135\n",
      "len(df_later_laps) = 62681\n"
     ]
    }
   ],
   "source": [
    "print(f\"{len(df_first_laps) = }\")\n",
    "print(f\"{len(df_later_laps) = }\")      "
   ]
  },
  {
   "cell_type": "markdown",
   "id": "5c1db775-28bf-4fbc-8d6c-72dc3f88a581",
   "metadata": {
    "tags": []
   },
   "source": [
    "#### Equalize Lap Counts"
   ]
  },
  {
   "cell_type": "code",
   "execution_count": 23,
   "id": "81bc326c-b793-46fc-bbaf-9373a8efd6bc",
   "metadata": {},
   "outputs": [],
   "source": [
    "if equalize_classes:\n",
    "    if len(df_first_laps) < len(df_later_laps):\n",
    "        df_first_laps = pd.concat([df_first_laps, df_first_laps.sample( (len(df_later_laps)-len(df_first_laps)), replace=True, random_state=seed)])\n",
    "    if len(df_first_laps) > len(df_later_laps):\n",
    "        df_later_laps = pd.concat([df_later_laps, df_later_laps.sample( (len(df_first_laps)-len(df_later_laps)), replace=True, random_state=seed)])"
   ]
  },
  {
   "cell_type": "code",
   "execution_count": 24,
   "id": "0b6da02c-c1f2-49de-aab1-649f0acd22b9",
   "metadata": {},
   "outputs": [
    {
     "name": "stdout",
     "output_type": "stream",
     "text": [
      "len(df_first_laps) = 62681\n",
      "len(df_later_laps) = 62681\n"
     ]
    }
   ],
   "source": [
    "print(f\"{len(df_first_laps) = }\")\n",
    "print(f\"{len(df_later_laps) = }\")      "
   ]
  },
  {
   "cell_type": "markdown",
   "id": "706053b0-03d6-4a42-a7d4-bac3ee4de560",
   "metadata": {},
   "source": [
    "#### Combine pared laps"
   ]
  },
  {
   "cell_type": "code",
   "execution_count": 25,
   "id": "cd39ca3c-bda0-4a19-a9f3-bcb73ba4c94e",
   "metadata": {},
   "outputs": [],
   "source": [
    "df = pd.concat([df_first_laps, df_later_laps], ignore_index=True)\n",
    "if 'first_lap' in telemetry_columns:\n",
    "    df['first_lap'] = (df['lap_type'] == 'first') * 1"
   ]
  },
  {
   "cell_type": "code",
   "execution_count": 26,
   "id": "cb7436ac-71d0-45d1-83cf-ac3e3928cdc4",
   "metadata": {},
   "outputs": [
    {
     "data": {
      "image/png": "[encoded data removed]",
      "text/plain": [
       "<Figure size 720x720 with 2 Axes>"
      ]
     },
     "metadata": {
      "needs_background": "light"
     },
     "output_type": "display_data"
    }
   ],
   "source": [
    "combined_laps = pd.DataFrame(df.groupby(by='folder_lap')['time'].describe()[['max', 'min']])\n",
    "combined_laps['lap_time'] = laps['max'] - laps['min']\n",
    "combined_laps['lap_type'] = df.groupby(by='folder_lap')['lap_type'].describe()[['top']]\n",
    "\n",
    "fig, ax = plt.subplots(2, 1, figsize=(10,10))\n",
    "plt.suptitle('Distribution of Lap Times in Seconds', size=15)\n",
    "ax[0] = sns.histplot(x='lap_time', data=combined_laps, hue='lap_type', bins=100, ax=ax[0], multiple='dodge',)# log_scale=(0, 10))\n",
    "ax[0].set_xlabel('Lap Time (Seconds)', size=12)\n",
    "ax[1] = sns.boxplot(x='lap_time', y='lap_type', data=combined_laps, hue='lap_type', ax=ax[1])\n",
    "ax[1].set_xlabel('Lap Time (Seconds)', size=12)\n",
    "plt.tight_layout();"
   ]
  },
  {
   "cell_type": "markdown",
   "id": "5dd396cd-897f-4cd2-8b8b-a0824ca68cbc",
   "metadata": {
    "tags": []
   },
   "source": [
    "#### Save lap data (in time order) for plotting"
   ]
  },
  {
   "cell_type": "code",
   "execution_count": 27,
   "id": "ea701c68-a457-4a43-9adb-c398d4863719",
   "metadata": {
    "tags": []
   },
   "outputs": [],
   "source": [
    "for d in [df, df_first_laps, df_later_laps]:\n",
    "    d = d.sort_values(by=['folder_lap', 'time'], ascending=True).copy()\n",
    "    d = d.reset_index(drop=True).copy()\n",
    "\n",
    "df.to_pickle(combined_laps_file)\n",
    "df_first_laps.to_pickle(first_laps_file)\n",
    "df_later_laps.to_pickle(later_laps_file)"
   ]
  },
  {
   "cell_type": "code",
   "execution_count": 28,
   "id": "10d1ed5a-c936-40cf-8890-4f69fb4044b9",
   "metadata": {},
   "outputs": [
    {
     "data": {
      "text/plain": [
       "125362"
      ]
     },
     "execution_count": 28,
     "metadata": {},
     "output_type": "execute_result"
    }
   ],
   "source": [
    "len(df)"
   ]
  },
  {
   "cell_type": "markdown",
   "id": "828c670b-4a45-4fd4-82e5-f2387eaa1c4b",
   "metadata": {},
   "source": [
    "### Shuffle/Pare Data"
   ]
  },
  {
   "cell_type": "code",
   "execution_count": 29,
   "id": "b10e5c55-ac8d-4de7-94e7-09f844fef720",
   "metadata": {},
   "outputs": [
    {
     "name": "stdout",
     "output_type": "stream",
     "text": [
      "<class 'pandas.core.frame.DataFrame'>\n",
      "RangeIndex: 100000 entries, 0 to 99999\n",
      "Data columns (total 31 columns):\n",
      " #   Column      Non-Null Count   Dtype  \n",
      "---  ------      --------------   -----  \n",
      " 0   steering    100000 non-null  float64\n",
      " 1   throttle    100000 non-null  float64\n",
      " 2   speed       100000 non-null  float64\n",
      " 3   image       100000 non-null  object \n",
      " 4   hit         100000 non-null  object \n",
      " 5   time        100000 non-null  float64\n",
      " 6   accel_x     100000 non-null  float64\n",
      " 7   accel_y     100000 non-null  float64\n",
      " 8   accel_z     100000 non-null  float64\n",
      " 9   gyro_x      100000 non-null  float64\n",
      " 10  gyro_y      100000 non-null  float64\n",
      " 11  gyro_z      100000 non-null  float64\n",
      " 12  pitch       100000 non-null  float64\n",
      " 13  yaw         100000 non-null  float64\n",
      " 14  roll        100000 non-null  float64\n",
      " 15  cte         100000 non-null  float64\n",
      " 16  activeNode  100000 non-null  object \n",
      " 17  totalNodes  100000 non-null  object \n",
      " 18  pos_x       100000 non-null  float64\n",
      " 19  pos_y       100000 non-null  float64\n",
      " 20  pos_z       100000 non-null  float64\n",
      " 21  vel_x       100000 non-null  float64\n",
      " 22  vel_y       100000 non-null  float64\n",
      " 23  vel_z       100000 non-null  float64\n",
      " 24  lap         100000 non-null  object \n",
      " 25  track       100000 non-null  object \n",
      " 26  folder      100000 non-null  object \n",
      " 27  folder_lap  100000 non-null  object \n",
      " 28  lap_time    100000 non-null  float64\n",
      " 29  lap_type    100000 non-null  object \n",
      " 30  first_lap   100000 non-null  int64  \n",
      "dtypes: float64(21), int64(1), object(9)\n",
      "memory usage: 23.7+ MB\n"
     ]
    }
   ],
   "source": [
    "df = df.sample(n=min(len(df),dataset_max_size), random_state=seed).reset_index(drop=True)\n",
    "df.info()"
   ]
  },
  {
   "cell_type": "code",
   "execution_count": 30,
   "id": "5386457e-cb69-4c75-bd20-42454e3aa3af",
   "metadata": {},
   "outputs": [
    {
     "data": {
      "text/plain": [
       "first    50156\n",
       "later    49844\n",
       "Name: lap_type, dtype: int64"
      ]
     },
     "execution_count": 30,
     "metadata": {},
     "output_type": "execute_result"
    }
   ],
   "source": [
    "df['lap_type'].value_counts()"
   ]
  },
  {
   "cell_type": "markdown",
   "id": "99db11a4-bceb-4a8a-957e-e4e1a5aec098",
   "metadata": {},
   "source": [
    "## Telemetry"
   ]
  },
  {
   "cell_type": "code",
   "execution_count": 31,
   "id": "3f690589-3f7d-49c8-83cc-694b7bebc10a",
   "metadata": {},
   "outputs": [],
   "source": [
    "if 'first_lap' in telemetry_columns:\n",
    "    df['first_lap'] = (df['lap'] == 1) * 1"
   ]
  },
  {
   "cell_type": "code",
   "execution_count": 32,
   "id": "ecc251a4-3291-4b1e-9b6e-478d94d69eeb",
   "metadata": {},
   "outputs": [
    {
     "data": {
      "text/html": [
       "<div>\n",
       "<style scoped>\n",
       "    .dataframe tbody tr th:only-of-type {\n",
       "        vertical-align: middle;\n",
       "    }\n",
       "\n",
       "    .dataframe tbody tr th {\n",
       "        vertical-align: top;\n",
       "    }\n",
       "\n",
       "    .dataframe thead th {\n",
       "        text-align: right;\n",
       "    }\n",
       "</style>\n",
       "<table border=\"1\" class=\"dataframe\">\n",
       "  <thead>\n",
       "    <tr style=\"text-align: right;\">\n",
       "      <th></th>\n",
       "      <th>speed</th>\n",
       "      <th>pitch</th>\n",
       "      <th>yaw</th>\n",
       "      <th>roll</th>\n",
       "      <th>first_lap</th>\n",
       "    </tr>\n",
       "  </thead>\n",
       "  <tbody>\n",
       "    <tr>\n",
       "      <th>0</th>\n",
       "      <td>24.73447</td>\n",
       "      <td>358.895400</td>\n",
       "      <td>240.876700</td>\n",
       "      <td>359.065100</td>\n",
       "      <td>0</td>\n",
       "    </tr>\n",
       "    <tr>\n",
       "      <th>1</th>\n",
       "      <td>22.52995</td>\n",
       "      <td>355.894600</td>\n",
       "      <td>298.303300</td>\n",
       "      <td>4.365108</td>\n",
       "      <td>1</td>\n",
       "    </tr>\n",
       "    <tr>\n",
       "      <th>2</th>\n",
       "      <td>29.55147</td>\n",
       "      <td>2.115480</td>\n",
       "      <td>42.791160</td>\n",
       "      <td>352.305400</td>\n",
       "      <td>1</td>\n",
       "    </tr>\n",
       "    <tr>\n",
       "      <th>3</th>\n",
       "      <td>24.42375</td>\n",
       "      <td>0.235134</td>\n",
       "      <td>209.782700</td>\n",
       "      <td>1.897224</td>\n",
       "      <td>0</td>\n",
       "    </tr>\n",
       "    <tr>\n",
       "      <th>4</th>\n",
       "      <td>16.47673</td>\n",
       "      <td>3.268170</td>\n",
       "      <td>232.704100</td>\n",
       "      <td>12.899000</td>\n",
       "      <td>1</td>\n",
       "    </tr>\n",
       "    <tr>\n",
       "      <th>...</th>\n",
       "      <td>...</td>\n",
       "      <td>...</td>\n",
       "      <td>...</td>\n",
       "      <td>...</td>\n",
       "      <td>...</td>\n",
       "    </tr>\n",
       "    <tr>\n",
       "      <th>99995</th>\n",
       "      <td>26.91833</td>\n",
       "      <td>0.328073</td>\n",
       "      <td>5.431309</td>\n",
       "      <td>355.642800</td>\n",
       "      <td>0</td>\n",
       "    </tr>\n",
       "    <tr>\n",
       "      <th>99996</th>\n",
       "      <td>29.45354</td>\n",
       "      <td>1.721909</td>\n",
       "      <td>39.636260</td>\n",
       "      <td>353.090800</td>\n",
       "      <td>0</td>\n",
       "    </tr>\n",
       "    <tr>\n",
       "      <th>99997</th>\n",
       "      <td>22.17486</td>\n",
       "      <td>358.025500</td>\n",
       "      <td>353.266800</td>\n",
       "      <td>4.314892</td>\n",
       "      <td>1</td>\n",
       "    </tr>\n",
       "    <tr>\n",
       "      <th>99998</th>\n",
       "      <td>25.12543</td>\n",
       "      <td>1.745164</td>\n",
       "      <td>356.531600</td>\n",
       "      <td>3.842681</td>\n",
       "      <td>0</td>\n",
       "    </tr>\n",
       "    <tr>\n",
       "      <th>99999</th>\n",
       "      <td>23.82009</td>\n",
       "      <td>359.616000</td>\n",
       "      <td>25.675490</td>\n",
       "      <td>2.694624</td>\n",
       "      <td>0</td>\n",
       "    </tr>\n",
       "  </tbody>\n",
       "</table>\n",
       "<p>100000 rows × 5 columns</p>\n",
       "</div>"
      ],
      "text/plain": [
       "          speed       pitch         yaw        roll  first_lap\n",
       "0      24.73447  358.895400  240.876700  359.065100          0\n",
       "1      22.52995  355.894600  298.303300    4.365108          1\n",
       "2      29.55147    2.115480   42.791160  352.305400          1\n",
       "3      24.42375    0.235134  209.782700    1.897224          0\n",
       "4      16.47673    3.268170  232.704100   12.899000          1\n",
       "...         ...         ...         ...         ...        ...\n",
       "99995  26.91833    0.328073    5.431309  355.642800          0\n",
       "99996  29.45354    1.721909   39.636260  353.090800          0\n",
       "99997  22.17486  358.025500  353.266800    4.314892          1\n",
       "99998  25.12543    1.745164  356.531600    3.842681          0\n",
       "99999  23.82009  359.616000   25.675490    2.694624          0\n",
       "\n",
       "[100000 rows x 5 columns]"
      ]
     },
     "execution_count": 32,
     "metadata": {},
     "output_type": "execute_result"
    }
   ],
   "source": [
    "X_telem = df[telemetry_columns]\n",
    "X_telem"
   ]
  },
  {
   "cell_type": "markdown",
   "id": "58c7f1e7-6fba-4dd2-a05d-cbb011c9c123",
   "metadata": {},
   "source": [
    "## Images"
   ]
  },
  {
   "cell_type": "code",
   "execution_count": 33,
   "id": "fe4fb2bd-e6c8-43ba-bde9-319eb08ce160",
   "metadata": {},
   "outputs": [],
   "source": [
    "image_files = records_directory / df['folder'] / 'images' / df['image']"
   ]
  },
  {
   "cell_type": "code",
   "execution_count": 34,
   "id": "967be135-8dbb-4e58-939d-39c1d17077ab",
   "metadata": {},
   "outputs": [
    {
     "name": "stdout",
     "output_type": "stream",
     "text": [
      "processing 100000 image files\n",
      "> 1000 > 2000 > 3000 > 4000 > 5000 > 6000 > 7000 > 8000 > 9000 > 10000 \n",
      "> 11000 > 12000 > 13000 > 14000 > 15000 > 16000 > 17000 > 18000 > 19000 > 20000 \n",
      "> 21000 > 22000 > 23000 > 24000 > 25000 > 26000 > 27000 > 28000 > 29000 > 30000 \n",
      "> 31000 > 32000 > 33000 > 34000 > 35000 > 36000 > 37000 > 38000 > 39000 > 40000 \n",
      "> 41000 > 42000 > 43000 > 44000 > 45000 > 46000 > 47000 > 48000 > 49000 > 50000 \n",
      "> 51000 > 52000 > 53000 > 54000 > 55000 > 56000 > 57000 > 58000 > 59000 > 60000 \n",
      "> 61000 > 62000 > 63000 > 64000 > 65000 > 66000 > 67000 > 68000 > 69000 > 70000 \n",
      "> 71000 > 72000 > 73000 > 74000 > 75000 > 76000 > 77000 > 78000 > 79000 > 80000 \n",
      "> 81000 > 82000 > 83000 > 84000 > 85000 > 86000 > 87000 > 88000 > 89000 > 90000 \n",
      "> 91000 > 92000 > 93000 > 94000 > 95000 > 96000 > 97000 > 98000 > 99000 > 100000 \n",
      "done\n"
     ]
    },
    {
     "data": {
      "text/plain": [
       "(100000, 120, 160, 1)"
      ]
     },
     "execution_count": 34,
     "metadata": {},
     "output_type": "execute_result"
    }
   ],
   "source": [
    "counter = 0\n",
    "X_img = np.ndarray(shape=(len(image_files), 120, 160, 1),\n",
    "                     dtype=np.uint8)\n",
    "\n",
    "def load_images(im):\n",
    "    global counter\n",
    "    global X_img\n",
    "    X_img[counter] = img_to_array(load_img(im, color_mode='grayscale'))\n",
    "    counter += 1\n",
    "    if not counter % 1000:\n",
    "        print(f'> {counter}', end=' ')\n",
    "        if not counter % 10000:\n",
    "            print()\n",
    "\n",
    "print(f'processing {len(image_files)} image files') \n",
    "image_files.apply(load_images)\n",
    "print('done')\n",
    "X_img.shape"
   ]
  },
  {
   "cell_type": "code",
   "execution_count": 35,
   "id": "2dd763dd-7bdc-46ef-af56-7ae27e2508e9",
   "metadata": {},
   "outputs": [
    {
     "data": {
      "image/png": "[encoded data removed]",
      "text/plain": [
       "<PIL.Image.Image image mode=L size=160x120 at 0x7F5E052D9DF0>"
      ]
     },
     "execution_count": 35,
     "metadata": {},
     "output_type": "execute_result"
    }
   ],
   "source": [
    "## Double check\n",
    "Image.fromarray(X_img[0].reshape(120,160))"
   ]
  },
  {
   "cell_type": "markdown",
   "id": "a3b9c6dc-97b5-4118-b27c-ef73d1f107e7",
   "metadata": {
    "tags": []
   },
   "source": [
    "## Datasets"
   ]
  },
  {
   "cell_type": "markdown",
   "id": "c962648f-409c-427a-8034-6faa9e086edb",
   "metadata": {
    "tags": []
   },
   "source": [
    "### Create Targets"
   ]
  },
  {
   "cell_type": "code",
   "execution_count": 36,
   "id": "7fa02d0b-5894-4417-820c-9506d8c748b7",
   "metadata": {},
   "outputs": [
    {
     "name": "stdout",
     "output_type": "stream",
     "text": [
      "len(X_telem): 100000\n",
      "X.shape: (100000, 120, 160, 1)\n",
      "y.shape: (100000, 2)\n"
     ]
    }
   ],
   "source": [
    "## Target: throttle and steering data\n",
    "y = df.loc[:, ['steering', 'throttle']] #.to_numpy().copy()\n",
    "\n",
    "## Verify size\n",
    "print(f'len(X_telem): {len(X_telem)}')\n",
    "print(f'X.shape: {X_img.shape}')\n",
    "print(f'y.shape: {y.shape}')"
   ]
  },
  {
   "cell_type": "markdown",
   "id": "ce504a00-93ee-45d7-85d4-1b7e07f83f98",
   "metadata": {
    "tags": []
   },
   "source": [
    "### Save Datasets"
   ]
  },
  {
   "cell_type": "code",
   "execution_count": 37,
   "id": "67943165-a6bd-4c5c-b5ec-a5f7b463d1a4",
   "metadata": {
    "tags": []
   },
   "outputs": [],
   "source": [
    "## Save telemetry as pickle (why?)\n",
    "X_telem.to_pickle(telem_dataset_file)"
   ]
  },
  {
   "cell_type": "code",
   "execution_count": 38,
   "id": "9e0e2807-5aa2-44fa-898a-ff1f57d4db1c",
   "metadata": {},
   "outputs": [],
   "source": [
    "X_img = np.asarray([np.asarray(img) for img in X_img])"
   ]
  },
  {
   "cell_type": "code",
   "execution_count": 39,
   "id": "92c3dde5-8447-42b0-a246-f2d2b384dd93",
   "metadata": {
    "tags": []
   },
   "outputs": [],
   "source": [
    "## Save as images and targets as binary NumPy .npy format\n",
    "with open(image_dataset_file, 'wb') as X_out:\n",
    "    np.save(file=X_out, arr=X_img)\n",
    "with open(target_dataset_file, 'wb') as y_out:\n",
    "    np.save(file=y_out, arr=y)"
   ]
  }
 ],
 "metadata": {
  "kernelspec": {
   "display_name": "Python 3 (ipykernel)",
   "language": "python",
   "name": "python3"
  },
  "language_info": {
   "codemirror_mode": {
    "name": "ipython",
    "version": 3
   },
   "file_extension": ".py",
   "mimetype": "text/x-python",
   "name": "python",
   "nbconvert_exporter": "python",
   "pygments_lexer": "ipython3",
   "version": "3.9.7"
  }
 },
 "nbformat": 4,
 "nbformat_minor": 5
}
