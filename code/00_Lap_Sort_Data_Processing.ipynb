{
 "cells": [
  {
   "cell_type": "markdown",
   "id": "da1de231-e9e8-4f0b-8758-b67011969f80",
   "metadata": {
    "tags": []
   },
   "source": [
    "# Data Processing (with sorted laps)\n",
    "\n",
    "Determine which laps to keep while avoiding eliminating all first laps. Bleh.\n",
    "1. Import telemetry .csv\n",
    "1. Import image data\n",
    "1. Convert image data\n",
    "1. Save image, telemetry, and target datasets"
   ]
  },
  {
   "cell_type": "code",
   "execution_count": 1,
   "id": "ca6f1792-6e54-4a32-9efb-e2052c199a6c",
   "metadata": {},
   "outputs": [
    {
     "name": "stderr",
     "output_type": "stream",
     "text": [
      "2022-01-28 11:34:47.805615: I tensorflow/stream_executor/platform/default/dso_loader.cc:49] Successfully opened dynamic library libcudart.so.10.1\n"
     ]
    }
   ],
   "source": [
    "## Imports\n",
    "import numpy as np\n",
    "import pandas as pd\n",
    "import os, sys\n",
    "import matplotlib.pyplot as plt\n",
    "import seaborn as sns\n",
    "import time\n",
    "import pickle\n",
    "\n",
    "from tensorflow.keras.preprocessing.image import img_to_array, load_img"
   ]
  },
  {
   "cell_type": "code",
   "execution_count": 2,
   "id": "7f72a82f-140e-4409-a8a8-c7dac96c46af",
   "metadata": {},
   "outputs": [],
   "source": [
    "# If you care to:\n",
    "train_type = 'auto' # None, 'auto', 'manual'\n",
    "\n",
    "# Directories\n",
    "data_directory = f'../data'\n",
    "training_data_directory = f'{data_directory}/training_data'\n",
    "datasets_directory = f'{data_directory}/{time.strftime(\"%m_%d_%Y/%H_%M_%S\")}'\n",
    "\n",
    "if train_type:\n",
    "    training_data_directory = f'{training_data_directory}/{train_type}'\n",
    "\n",
    "# File paths\n",
    "image_dataset_file = f'{datasets_directory}/X_img.npy'\n",
    "telem_dataset_file = f'{datasets_directory}/X_telem.pkl'\n",
    "target_dataset_file = f'{datasets_directory}/y.npy'\n",
    "\n",
    "combined_laps_file = f'{datasets_directory}/processed_laps.pkl'\n",
    "first_laps_file = f'{datasets_directory}/first_laps.pkl'\n",
    "later_laps_file = f'{datasets_directory}/later_laps.pkl'\n",
    "\n",
    "# Telemetry\n",
    "imu_data = ['accel_x', 'accel_y', 'accel_z', 'gyro_x', 'gyro_y', 'gyro_z',] # 'vel_x', 'vel_y', 'vel_z',]\n",
    "# telemetry_columns = ['speed', 'accel_x', 'accel_y', 'accel_z', 'gyro_x', 'gyro_y', 'gyro_z', 'pitch', 'yaw', 'roll', 'activeNode', 'first_lap']\n",
    "telemetry_data = ['speed', 'yaw', 'activeNode', 'first_lap']\n",
    "telemetry_columns = telemetry_data\n",
    "\n",
    "# Dummify if treating activeNode as categorical\n",
    "dummify_nodes = False\n",
    "\n",
    "# Rough cut times for valid laps \n",
    "lap_min_cutoff = 17.5\n",
    "lap_max_cutoff = 20"
   ]
  },
  {
   "cell_type": "code",
   "execution_count": 3,
   "id": "986e8118-6a87-4856-9382-9f17297ddf50",
   "metadata": {},
   "outputs": [],
   "source": [
    "## Make sure directoires exist\n",
    "os.makedirs(data_directory, exist_ok=True)\n",
    "os.makedirs(datasets_directory, exist_ok=True)"
   ]
  },
  {
   "cell_type": "markdown",
   "id": "850065d3-fa1f-4599-9a39-a04b2ad88331",
   "metadata": {},
   "source": [
    "### Experiment: Target Shift\n",
    "\n",
    "The goal is to train a model to associate an image with my steering response to that image. As it is, the telemetry data associates an image with the inputs AT THE TIME THE IMAGE WAS CAPTURED. In reality, my response to that image will take some time.\n",
    "\n",
    "Thus, I will shifting the inputs to reflect my reaction. We'll see if that doesn't mess things up going the other direction.\n",
    "\n",
    "The shift method takes the number of rows to shift, which here translates to 50 msec frames. \"Human reaction time\" is supposedly roughly 250msec, so let's start with that.\n"
   ]
  },
  {
   "cell_type": "code",
   "execution_count": 4,
   "id": "f1ba1f99-468f-4503-94f2-183320687988",
   "metadata": {},
   "outputs": [],
   "source": [
    "# negative values shift \"upwards\", which will associate the screen with my actual reaction to it\n",
    "target_shift = 0"
   ]
  },
  {
   "cell_type": "markdown",
   "id": "2c4c10aa-3aa2-4767-8af1-42f1ba88016e",
   "metadata": {
    "tags": []
   },
   "source": [
    "## Records\n",
    "\n",
    "Steps:\n",
    "* sort and mark first laps (if necessary)\n",
    "* cut slow or incomplete laps\n",
    "* process and save telemetry data\n",
    "* import images as numpy arrays\n",
    "* create numpy array of image data arrays\n",
    "* save images as input dataset X\n",
    "* save steering angle and throttle data in numpy array as target dataset y\n"
   ]
  },
  {
   "cell_type": "code",
   "execution_count": 5,
   "id": "c864230e-116b-4e11-ad66-4075cb3f7c62",
   "metadata": {},
   "outputs": [
    {
     "data": {
      "text/html": [
       "<div>\n",
       "<style scoped>\n",
       "    .dataframe tbody tr th:only-of-type {\n",
       "        vertical-align: middle;\n",
       "    }\n",
       "\n",
       "    .dataframe tbody tr th {\n",
       "        vertical-align: top;\n",
       "    }\n",
       "\n",
       "    .dataframe thead th {\n",
       "        text-align: right;\n",
       "    }\n",
       "</style>\n",
       "<table border=\"1\" class=\"dataframe\">\n",
       "  <thead>\n",
       "    <tr style=\"text-align: right;\">\n",
       "      <th></th>\n",
       "      <th>steering_angle</th>\n",
       "      <th>throttle</th>\n",
       "      <th>speed</th>\n",
       "      <th>image</th>\n",
       "      <th>hit</th>\n",
       "      <th>time</th>\n",
       "      <th>accel_x</th>\n",
       "      <th>accel_y</th>\n",
       "      <th>accel_z</th>\n",
       "      <th>gyro_x</th>\n",
       "      <th>...</th>\n",
       "      <th>activeNode</th>\n",
       "      <th>totalNodes</th>\n",
       "      <th>pos_x</th>\n",
       "      <th>pos_y</th>\n",
       "      <th>pos_z</th>\n",
       "      <th>vel_x</th>\n",
       "      <th>vel_y</th>\n",
       "      <th>vel_z</th>\n",
       "      <th>lap</th>\n",
       "      <th>folder</th>\n",
       "    </tr>\n",
       "  </thead>\n",
       "  <tbody>\n",
       "    <tr>\n",
       "      <th>0</th>\n",
       "      <td>-0.004295</td>\n",
       "      <td>0.969135</td>\n",
       "      <td>7.213722</td>\n",
       "      <td>13050.46.PNG</td>\n",
       "      <td>none</td>\n",
       "      <td>13050.46</td>\n",
       "      <td>0.454088</td>\n",
       "      <td>-27.325400</td>\n",
       "      <td>8.134651</td>\n",
       "      <td>-0.002927</td>\n",
       "      <td>...</td>\n",
       "      <td>1</td>\n",
       "      <td>250</td>\n",
       "      <td>55.82145</td>\n",
       "      <td>5.157105</td>\n",
       "      <td>48.24960</td>\n",
       "      <td>0.000494</td>\n",
       "      <td>-0.336662</td>\n",
       "      <td>7.205862</td>\n",
       "      <td>1</td>\n",
       "      <td>01_25_2022/21_57_00</td>\n",
       "    </tr>\n",
       "    <tr>\n",
       "      <th>1</th>\n",
       "      <td>0.004948</td>\n",
       "      <td>0.970947</td>\n",
       "      <td>7.712748</td>\n",
       "      <td>13050.51.PNG</td>\n",
       "      <td>none</td>\n",
       "      <td>13050.51</td>\n",
       "      <td>0.821294</td>\n",
       "      <td>7.376935</td>\n",
       "      <td>5.949783</td>\n",
       "      <td>0.000618</td>\n",
       "      <td>...</td>\n",
       "      <td>1</td>\n",
       "      <td>250</td>\n",
       "      <td>55.82745</td>\n",
       "      <td>5.133850</td>\n",
       "      <td>47.86837</td>\n",
       "      <td>-0.032484</td>\n",
       "      <td>0.093101</td>\n",
       "      <td>7.712118</td>\n",
       "      <td>1</td>\n",
       "      <td>01_25_2022/21_57_00</td>\n",
       "    </tr>\n",
       "    <tr>\n",
       "      <th>2</th>\n",
       "      <td>0.004948</td>\n",
       "      <td>0.970947</td>\n",
       "      <td>8.061017</td>\n",
       "      <td>13050.56.PNG</td>\n",
       "      <td>none</td>\n",
       "      <td>13050.56</td>\n",
       "      <td>0.211963</td>\n",
       "      <td>-0.818907</td>\n",
       "      <td>7.319450</td>\n",
       "      <td>0.001080</td>\n",
       "      <td>...</td>\n",
       "      <td>1</td>\n",
       "      <td>250</td>\n",
       "      <td>55.82990</td>\n",
       "      <td>5.126487</td>\n",
       "      <td>47.47499</td>\n",
       "      <td>-0.015764</td>\n",
       "      <td>0.160948</td>\n",
       "      <td>8.059395</td>\n",
       "      <td>1</td>\n",
       "      <td>01_25_2022/21_57_00</td>\n",
       "    </tr>\n",
       "    <tr>\n",
       "      <th>3</th>\n",
       "      <td>-0.014648</td>\n",
       "      <td>0.967677</td>\n",
       "      <td>8.444221</td>\n",
       "      <td>13050.61.PNG</td>\n",
       "      <td>none</td>\n",
       "      <td>13050.61</td>\n",
       "      <td>0.103619</td>\n",
       "      <td>-2.122749</td>\n",
       "      <td>7.874489</td>\n",
       "      <td>0.001147</td>\n",
       "      <td>...</td>\n",
       "      <td>1</td>\n",
       "      <td>250</td>\n",
       "      <td>55.83161</td>\n",
       "      <td>5.120353</td>\n",
       "      <td>47.06344</td>\n",
       "      <td>-0.008829</td>\n",
       "      <td>0.071462</td>\n",
       "      <td>8.443913</td>\n",
       "      <td>1</td>\n",
       "      <td>01_25_2022/21_57_00</td>\n",
       "    </tr>\n",
       "    <tr>\n",
       "      <th>4</th>\n",
       "      <td>-0.014648</td>\n",
       "      <td>0.967677</td>\n",
       "      <td>8.874846</td>\n",
       "      <td>13050.66.PNG</td>\n",
       "      <td>none</td>\n",
       "      <td>13050.66</td>\n",
       "      <td>8.256850</td>\n",
       "      <td>8.237621</td>\n",
       "      <td>12.195010</td>\n",
       "      <td>0.002638</td>\n",
       "      <td>...</td>\n",
       "      <td>2</td>\n",
       "      <td>250</td>\n",
       "      <td>55.83034</td>\n",
       "      <td>5.106925</td>\n",
       "      <td>46.63478</td>\n",
       "      <td>0.073996</td>\n",
       "      <td>-0.333790</td>\n",
       "      <td>8.868258</td>\n",
       "      <td>1</td>\n",
       "      <td>01_25_2022/21_57_00</td>\n",
       "    </tr>\n",
       "  </tbody>\n",
       "</table>\n",
       "<p>5 rows × 27 columns</p>\n",
       "</div>"
      ],
      "text/plain": [
       "   steering_angle  throttle     speed         image   hit      time   accel_x  \\\n",
       "0       -0.004295  0.969135  7.213722  13050.46.PNG  none  13050.46  0.454088   \n",
       "1        0.004948  0.970947  7.712748  13050.51.PNG  none  13050.51  0.821294   \n",
       "2        0.004948  0.970947  8.061017  13050.56.PNG  none  13050.56  0.211963   \n",
       "3       -0.014648  0.967677  8.444221  13050.61.PNG  none  13050.61  0.103619   \n",
       "4       -0.014648  0.967677  8.874846  13050.66.PNG  none  13050.66  8.256850   \n",
       "\n",
       "     accel_y    accel_z    gyro_x  ...  activeNode  totalNodes     pos_x  \\\n",
       "0 -27.325400   8.134651 -0.002927  ...           1         250  55.82145   \n",
       "1   7.376935   5.949783  0.000618  ...           1         250  55.82745   \n",
       "2  -0.818907   7.319450  0.001080  ...           1         250  55.82990   \n",
       "3  -2.122749   7.874489  0.001147  ...           1         250  55.83161   \n",
       "4   8.237621  12.195010  0.002638  ...           2         250  55.83034   \n",
       "\n",
       "      pos_y     pos_z     vel_x     vel_y     vel_z lap               folder  \n",
       "0  5.157105  48.24960  0.000494 -0.336662  7.205862   1  01_25_2022/21_57_00  \n",
       "1  5.133850  47.86837 -0.032484  0.093101  7.712118   1  01_25_2022/21_57_00  \n",
       "2  5.126487  47.47499 -0.015764  0.160948  8.059395   1  01_25_2022/21_57_00  \n",
       "3  5.120353  47.06344 -0.008829  0.071462  8.443913   1  01_25_2022/21_57_00  \n",
       "4  5.106925  46.63478  0.073996 -0.333790  8.868258   1  01_25_2022/21_57_00  \n",
       "\n",
       "[5 rows x 27 columns]"
      ]
     },
     "execution_count": 5,
     "metadata": {},
     "output_type": "execute_result"
    }
   ],
   "source": [
    "## temporary list for dataframes\n",
    "data_dfs = []\n",
    "\n",
    "## get date directory names\n",
    "date_dirs = [x for x in os.listdir(training_data_directory) if not x.startswith('.')] # != '.ipynb_checkpoints']\n",
    "\n",
    "\n",
    "for dd in date_dirs:\n",
    "    time_dirs = [y for y in os.listdir(f'{training_data_directory}/{dd}') if not y.startswith('.')] # != '.ipynb_checkpoints']\n",
    "    for td in time_dirs:\n",
    "        folder_path = f'{training_data_directory}/{dd}/{td}'\n",
    "        temp_df = pd.read_csv(f'{folder_path}/data.csv')\n",
    "        temp_df['folder'] = f'{dd}/{td}'\n",
    "        ## modify targets before shoving them all together to prevent leakage from un-related laps\n",
    "        ## this cuts off the last time_shift records but those will be cut later anyways.\n",
    "        if target_shift != 0:\n",
    "            temp_df.loc[ : , 'steering_angle'] = temp_df.loc[ : ,'steering_angle'].shift(target_shift).copy()\n",
    "            temp_df.loc[ : , 'throttle'] = temp_df.loc[ : ,'throttle'].shift(target_shift).copy()\n",
    "        if train_type and train_type == 'auto':\n",
    "            temp_df = temp_df.loc[(temp_df['lap'] != 0) & (temp_df['lap'] != temp_df['lap'].max()), :]\n",
    "        data_dfs.append(temp_df.copy())\n",
    "df = pd.concat(data_dfs)\n",
    "df = df.reset_index(drop=True).copy()\n",
    "df.head()"
   ]
  },
  {
   "cell_type": "code",
   "execution_count": 6,
   "id": "b1b624e5-d8ae-4f43-a723-2cf542c2fc43",
   "metadata": {},
   "outputs": [
    {
     "data": {
      "text/plain": [
       "Index(['steering_angle', 'throttle', 'speed', 'image', 'hit', 'time',\n",
       "       'accel_x', 'accel_y', 'accel_z', 'gyro_x', 'gyro_y', 'gyro_z', 'gyro_w',\n",
       "       'pitch', 'yaw', 'roll', 'cte', 'activeNode', 'totalNodes', 'pos_x',\n",
       "       'pos_y', 'pos_z', 'vel_x', 'vel_y', 'vel_z', 'lap', 'folder'],\n",
       "      dtype='object')"
      ]
     },
     "execution_count": 6,
     "metadata": {},
     "output_type": "execute_result"
    }
   ],
   "source": [
    "df.columns"
   ]
  },
  {
   "cell_type": "markdown",
   "id": "5cc990eb-d724-4d12-8337-d4542149de1b",
   "metadata": {
    "tags": []
   },
   "source": [
    "### EDA/Cleaning"
   ]
  },
  {
   "cell_type": "code",
   "execution_count": 7,
   "id": "86182781-39ae-4ab9-8812-b7c3dda24338",
   "metadata": {},
   "outputs": [
    {
     "name": "stdout",
     "output_type": "stream",
     "text": [
      "<class 'pandas.core.frame.DataFrame'>\n",
      "RangeIndex: 589542 entries, 0 to 589541\n",
      "Data columns (total 27 columns):\n",
      " #   Column          Non-Null Count   Dtype  \n",
      "---  ------          --------------   -----  \n",
      " 0   steering_angle  589542 non-null  float64\n",
      " 1   throttle        589542 non-null  float64\n",
      " 2   speed           589542 non-null  float64\n",
      " 3   image           589542 non-null  object \n",
      " 4   hit             589542 non-null  object \n",
      " 5   time            589542 non-null  float64\n",
      " 6   accel_x         589542 non-null  float64\n",
      " 7   accel_y         589542 non-null  float64\n",
      " 8   accel_z         589542 non-null  float64\n",
      " 9   gyro_x          589542 non-null  float64\n",
      " 10  gyro_y          589542 non-null  float64\n",
      " 11  gyro_z          589542 non-null  float64\n",
      " 12  gyro_w          589542 non-null  float64\n",
      " 13  pitch           589542 non-null  float64\n",
      " 14  yaw             589542 non-null  float64\n",
      " 15  roll            589542 non-null  float64\n",
      " 16  cte             589542 non-null  float64\n",
      " 17  activeNode      589542 non-null  object \n",
      " 18  totalNodes      589542 non-null  object \n",
      " 19  pos_x           589542 non-null  float64\n",
      " 20  pos_y           589542 non-null  float64\n",
      " 21  pos_z           589542 non-null  float64\n",
      " 22  vel_x           589542 non-null  float64\n",
      " 23  vel_y           589542 non-null  float64\n",
      " 24  vel_z           589542 non-null  float64\n",
      " 25  lap             589542 non-null  object \n",
      " 26  folder          589542 non-null  object \n",
      "dtypes: float64(21), object(6)\n",
      "memory usage: 121.4+ MB\n"
     ]
    }
   ],
   "source": [
    "df.info()"
   ]
  },
  {
   "cell_type": "markdown",
   "id": "ba817b53-2bf8-41e3-851b-12772255aa76",
   "metadata": {},
   "source": [
    "#### Drop useless columns"
   ]
  },
  {
   "cell_type": "code",
   "execution_count": 8,
   "id": "f8626b74-b659-45ae-bbfe-d370cafea91a",
   "metadata": {},
   "outputs": [],
   "source": [
    "# df = df.drop(columns=['hit', 'gyro_w', 'cte', 'totalNodes'])"
   ]
  },
  {
   "cell_type": "markdown",
   "id": "ae74d200-3fd9-48cc-a9fe-07119d198632",
   "metadata": {},
   "source": [
    "#### Drop NAs\n",
    "(These exist due to the time shift, if any)"
   ]
  },
  {
   "cell_type": "code",
   "execution_count": 9,
   "id": "1535a84a-7465-4357-9a4d-3b6ed9117b97",
   "metadata": {},
   "outputs": [],
   "source": [
    "df = df.dropna().copy()"
   ]
  },
  {
   "cell_type": "markdown",
   "id": "6902fd35-c662-4204-871f-c9b3af51c25d",
   "metadata": {
    "tags": []
   },
   "source": [
    "#### Rename steering column to match throttle column"
   ]
  },
  {
   "cell_type": "code",
   "execution_count": 10,
   "id": "b091a90e-7ae1-417c-ac8f-68781bb70c19",
   "metadata": {
    "tags": []
   },
   "outputs": [
    {
     "data": {
      "text/plain": [
       "Index(['steering', 'throttle', 'speed', 'image', 'hit', 'time', 'accel_x',\n",
       "       'accel_y', 'accel_z', 'gyro_x', 'gyro_y', 'gyro_z', 'gyro_w', 'pitch',\n",
       "       'yaw', 'roll', 'cte', 'activeNode', 'totalNodes', 'pos_x', 'pos_y',\n",
       "       'pos_z', 'vel_x', 'vel_y', 'vel_z', 'lap', 'folder'],\n",
       "      dtype='object')"
      ]
     },
     "execution_count": 10,
     "metadata": {},
     "output_type": "execute_result"
    }
   ],
   "source": [
    "df.columns = ['steering' if col=='steering_angle' else col for col in df.columns]\n",
    "df.columns"
   ]
  },
  {
   "cell_type": "markdown",
   "id": "ed8f74da-ad72-498a-a051-bd54725e010c",
   "metadata": {},
   "source": [
    "#### Convert dtypes to save space (?)"
   ]
  },
  {
   "cell_type": "code",
   "execution_count": 11,
   "id": "ac2da85c-d310-46e9-a460-305335d1992e",
   "metadata": {},
   "outputs": [
    {
     "name": "stdout",
     "output_type": "stream",
     "text": [
      "before: 288863989\n",
      "after: 198083197\n"
     ]
    }
   ],
   "source": [
    "print(f\"before: {sys.getsizeof(df)}\")\n",
    "\n",
    "for col in df.columns:\n",
    "    if df[col].dtype == 'float':\n",
    "        df[col] = pd.to_numeric(df[col], downcast='float')\n",
    "\n",
    "int_cols = ['activeNode','lap']\n",
    "for ic in int_cols:\n",
    "    df.loc[:,ic] = pd.to_numeric(df[ic], downcast='unsigned')\n",
    "\n",
    "print(f\"after: {sys.getsizeof(df)}\") "
   ]
  },
  {
   "cell_type": "markdown",
   "id": "e21c1f73-92cb-46df-8463-22e5b70e46ff",
   "metadata": {
    "tags": []
   },
   "source": [
    "### Separate Lap Types"
   ]
  },
  {
   "cell_type": "code",
   "execution_count": 12,
   "id": "100a7f26-245e-4acb-b31f-3cea0af29411",
   "metadata": {},
   "outputs": [
    {
     "data": {
      "text/plain": [
       "0          01_25_2022/21_57_00_1\n",
       "1          01_25_2022/21_57_00_1\n",
       "2          01_25_2022/21_57_00_1\n",
       "3          01_25_2022/21_57_00_1\n",
       "4          01_25_2022/21_57_00_1\n",
       "                   ...          \n",
       "589537    01_26_2022/00_38_27_18\n",
       "589538    01_26_2022/00_38_27_18\n",
       "589539    01_26_2022/00_38_27_18\n",
       "589540    01_26_2022/00_38_27_18\n",
       "589541    01_26_2022/00_38_27_18\n",
       "Name: folder_lap, Length: 589542, dtype: object"
      ]
     },
     "execution_count": 12,
     "metadata": {},
     "output_type": "execute_result"
    }
   ],
   "source": [
    "## should make sorting easier later\n",
    "df['folder_lap'] = df['folder'] + '_' + df['lap'].astype(str)\n",
    "df['folder_lap']"
   ]
  },
  {
   "cell_type": "markdown",
   "id": "fe6f4250-b396-4d20-8199-ce3887edc916",
   "metadata": {},
   "source": [
    "#### Create lists with cutoff time"
   ]
  },
  {
   "cell_type": "code",
   "execution_count": 13,
   "id": "6dd7afaa-d936-4ab4-b53b-0a4645d7f3e8",
   "metadata": {},
   "outputs": [
    {
     "data": {
      "image/png": "[encoded data removed]",
      "text/plain": [
       "<Figure size 1440x720 with 1 Axes>"
      ]
     },
     "metadata": {
      "needs_background": "light"
     },
     "output_type": "display_data"
    }
   ],
   "source": [
    "df_early = df.loc[df['activeNode'] == 5, :]\n",
    "fig = plt.figure(figsize=(20,10), )\n",
    "plt.title('speed at node 249')\n",
    "sns.histplot(df_early['speed'], bins=100);"
   ]
  },
  {
   "cell_type": "code",
   "execution_count": 14,
   "id": "c16d62b8-33fd-4bf1-8fcc-abc0f22e9994",
   "metadata": {},
   "outputs": [],
   "source": [
    "lap_type_divider = 20\n",
    "\n",
    "first_lap_list = df_early.loc[df_early['speed'] < lap_type_divider, 'folder_lap'].unique()\n",
    "later_lap_list = df_early.loc[df_early['speed'] >= lap_type_divider, 'folder_lap'].unique()"
   ]
  },
  {
   "cell_type": "markdown",
   "id": "0329f4a7-96cd-43dc-ae4b-4d31ed11eb2e",
   "metadata": {},
   "source": [
    "#### Create lap time df"
   ]
  },
  {
   "cell_type": "code",
   "execution_count": 15,
   "id": "075b1743-b4ea-4080-915f-4b48d9a5c16f",
   "metadata": {
    "tags": []
   },
   "outputs": [
    {
     "data": {
      "text/html": [
       "<div>\n",
       "<style scoped>\n",
       "    .dataframe tbody tr th:only-of-type {\n",
       "        vertical-align: middle;\n",
       "    }\n",
       "\n",
       "    .dataframe tbody tr th {\n",
       "        vertical-align: top;\n",
       "    }\n",
       "\n",
       "    .dataframe thead th {\n",
       "        text-align: right;\n",
       "    }\n",
       "</style>\n",
       "<table border=\"1\" class=\"dataframe\">\n",
       "  <thead>\n",
       "    <tr style=\"text-align: right;\">\n",
       "      <th></th>\n",
       "      <th>max</th>\n",
       "      <th>min</th>\n",
       "    </tr>\n",
       "    <tr>\n",
       "      <th>folder_lap</th>\n",
       "      <th></th>\n",
       "      <th></th>\n",
       "    </tr>\n",
       "  </thead>\n",
       "  <tbody>\n",
       "    <tr>\n",
       "      <th>01_25_2022/13_00_25_1</th>\n",
       "      <td>732.738281</td>\n",
       "      <td>712.988281</td>\n",
       "    </tr>\n",
       "    <tr>\n",
       "      <th>01_25_2022/13_00_25_2</th>\n",
       "      <td>751.438293</td>\n",
       "      <td>732.788330</td>\n",
       "    </tr>\n",
       "    <tr>\n",
       "      <th>01_25_2022/13_00_25_3</th>\n",
       "      <td>770.038330</td>\n",
       "      <td>751.488281</td>\n",
       "    </tr>\n",
       "    <tr>\n",
       "      <th>01_25_2022/13_00_25_4</th>\n",
       "      <td>788.238281</td>\n",
       "      <td>770.088318</td>\n",
       "    </tr>\n",
       "    <tr>\n",
       "      <th>01_25_2022/13_00_25_5</th>\n",
       "      <td>806.788330</td>\n",
       "      <td>788.288330</td>\n",
       "    </tr>\n",
       "    <tr>\n",
       "      <th>...</th>\n",
       "      <td>...</td>\n",
       "      <td>...</td>\n",
       "    </tr>\n",
       "    <tr>\n",
       "      <th>01_26_2022/01_55_18_5</th>\n",
       "      <td>27442.250000</td>\n",
       "      <td>27423.949219</td>\n",
       "    </tr>\n",
       "    <tr>\n",
       "      <th>01_26_2022/01_55_18_6</th>\n",
       "      <td>27460.800781</td>\n",
       "      <td>27442.300781</td>\n",
       "    </tr>\n",
       "    <tr>\n",
       "      <th>01_26_2022/01_55_18_7</th>\n",
       "      <td>27479.599609</td>\n",
       "      <td>27460.849609</td>\n",
       "    </tr>\n",
       "    <tr>\n",
       "      <th>01_26_2022/01_55_18_8</th>\n",
       "      <td>27497.949219</td>\n",
       "      <td>27479.650391</td>\n",
       "    </tr>\n",
       "    <tr>\n",
       "      <th>01_26_2022/01_55_18_9</th>\n",
       "      <td>27516.400391</td>\n",
       "      <td>27498.000000</td>\n",
       "    </tr>\n",
       "  </tbody>\n",
       "</table>\n",
       "<p>1588 rows × 2 columns</p>\n",
       "</div>"
      ],
      "text/plain": [
       "                                max           min\n",
       "folder_lap                                       \n",
       "01_25_2022/13_00_25_1    732.738281    712.988281\n",
       "01_25_2022/13_00_25_2    751.438293    732.788330\n",
       "01_25_2022/13_00_25_3    770.038330    751.488281\n",
       "01_25_2022/13_00_25_4    788.238281    770.088318\n",
       "01_25_2022/13_00_25_5    806.788330    788.288330\n",
       "...                             ...           ...\n",
       "01_26_2022/01_55_18_5  27442.250000  27423.949219\n",
       "01_26_2022/01_55_18_6  27460.800781  27442.300781\n",
       "01_26_2022/01_55_18_7  27479.599609  27460.849609\n",
       "01_26_2022/01_55_18_8  27497.949219  27479.650391\n",
       "01_26_2022/01_55_18_9  27516.400391  27498.000000\n",
       "\n",
       "[1588 rows x 2 columns]"
      ]
     },
     "execution_count": 15,
     "metadata": {},
     "output_type": "execute_result"
    }
   ],
   "source": [
    "laps = pd.DataFrame(df.groupby(by='folder_lap')['time'].describe()[['max', 'min']])\n",
    "laps"
   ]
  },
  {
   "cell_type": "markdown",
   "id": "39c227af-d0fa-477e-bde8-db67b96604e7",
   "metadata": {},
   "source": [
    "#### Calculate lap times"
   ]
  },
  {
   "cell_type": "code",
   "execution_count": 16,
   "id": "62e97abe-0e14-488c-8078-0ea7e456bffd",
   "metadata": {},
   "outputs": [
    {
     "data": {
      "text/plain": [
       "count    1588.000000\n",
       "mean       18.512375\n",
       "std         0.500564\n",
       "min        18.000000\n",
       "25%        18.250000\n",
       "50%        18.349609\n",
       "75%        18.451172\n",
       "max        21.648438\n",
       "Name: lap_time, dtype: float64"
      ]
     },
     "execution_count": 16,
     "metadata": {},
     "output_type": "execute_result"
    }
   ],
   "source": [
    "laps['lap_time'] = laps['max'] - laps['min']\n",
    "laps['lap_time'].describe()"
   ]
  },
  {
   "cell_type": "code",
   "execution_count": 17,
   "id": "cadc2c77-cea6-4b5c-9b42-d1795b26df65",
   "metadata": {
    "tags": []
   },
   "outputs": [
    {
     "data": {
      "image/png": "[encoded data removed]",
      "text/plain": [
       "<Figure size 720x720 with 2 Axes>"
      ]
     },
     "metadata": {
      "needs_background": "light"
     },
     "output_type": "display_data"
    }
   ],
   "source": [
    "fig, ax = plt.subplots(2, 1, figsize=(10,10))\n",
    "plt.suptitle('Distribution of All Lap Times', size=15)\n",
    "ax[0] = sns.histplot(x='lap_time', data=laps, bins='auto', ax=ax[0])\n",
    "ax[0].set_xlabel('Lap Time (Seconds)', size=12)\n",
    "ax[1] = sns.boxplot(x='lap_time', data=laps, ax=ax[1])\n",
    "ax[1].set_xlabel('Lap Time (Seconds)', size=12)\n",
    "plt.tight_layout();"
   ]
  },
  {
   "cell_type": "markdown",
   "id": "5985dcde-3f58-44ba-92cc-983de7b32b5f",
   "metadata": {
    "tags": []
   },
   "source": [
    "#### Merge lap times into dataframe to make sorting easier"
   ]
  },
  {
   "cell_type": "code",
   "execution_count": 18,
   "id": "ee53e9ef-758e-41f5-8457-501845068272",
   "metadata": {
    "tags": []
   },
   "outputs": [],
   "source": [
    "df = pd.merge(left=df, right=laps['lap_time'], left_on='folder_lap', right_index=True).copy()"
   ]
  },
  {
   "cell_type": "markdown",
   "id": "521fb563-8080-4179-bf97-ca89f096cfcd",
   "metadata": {
    "tags": []
   },
   "source": [
    "#### Cut laps longer and shorter than specified length"
   ]
  },
  {
   "cell_type": "code",
   "execution_count": 19,
   "id": "451d371a-efbc-446e-b187-9a4fa25207de",
   "metadata": {
    "tags": []
   },
   "outputs": [
    {
     "data": {
      "text/plain": [
       "(583415, 29)"
      ]
     },
     "execution_count": 19,
     "metadata": {},
     "output_type": "execute_result"
    }
   ],
   "source": [
    "df_pared = df.loc[(df['lap_time'] < lap_max_cutoff) & (df['lap_time'] > lap_min_cutoff), :].copy()\n",
    "df_pared.shape"
   ]
  },
  {
   "cell_type": "code",
   "execution_count": 20,
   "id": "e19fa3bd-e14a-4aea-822e-a4243443811e",
   "metadata": {
    "tags": []
   },
   "outputs": [
    {
     "data": {
      "image/png": "[encoded data removed]",
      "text/plain": [
       "<Figure size 720x720 with 2 Axes>"
      ]
     },
     "metadata": {
      "needs_background": "light"
     },
     "output_type": "display_data"
    }
   ],
   "source": [
    "laps = laps.loc[(laps['lap_time'] < lap_max_cutoff) & (laps['lap_time'] > lap_min_cutoff), :].copy()\n",
    "\n",
    "fig, ax = plt.subplots(2, 1, figsize=(10,10))\n",
    "plt.suptitle(f'Distribution of Lap Times from {lap_min_cutoff} to {lap_max_cutoff} Seconds', size=15)\n",
    "ax[0] = sns.histplot(x='lap_time', data=laps, bins=50, ax=ax[0])\n",
    "ax[0].set_xlabel('Lap Time (Seconds)', size=12)\n",
    "ax[1] = sns.boxplot(x='lap_time', data=laps, ax=ax[1])\n",
    "ax[1].set_xlabel('Lap Time (Seconds)', size=12)\n",
    "plt.tight_layout();"
   ]
  },
  {
   "cell_type": "markdown",
   "id": "fc688eae-963d-4e6b-af16-53a3cedf966e",
   "metadata": {},
   "source": [
    "#### Remove incomplete laps that happen to have valid lap times\n",
    "\n",
    "> Note: There are probably better ways to do this."
   ]
  },
  {
   "cell_type": "code",
   "execution_count": 21,
   "id": "d230336f-14b6-4c90-9d0f-ba2f5812867c",
   "metadata": {},
   "outputs": [],
   "source": [
    "# not needed for the newer laps\n",
    "if train_type == 'manual':\n",
    "    bad_laps = []\n",
    "    for fl in df_pared['folder_lap'].unique():\n",
    "        if len(df_pared.loc[df_pared['folder_lap'] == fl, 'activeNode'].unique() ) < 249:\n",
    "            bad_laps.append(fl)\n",
    "    print(f'Number of \"bad\" laps: {len(bad_laps)}')\n",
    "\n",
    "    ## Add any laps found \"by hand\" (via plotting) to list.\n",
    "    if train_type and train_type == 'manual':\n",
    "        bad_laps.append(('01_14_2022/14_07_24', 149))\n",
    "\n",
    "    df_pared = df_pared.loc[~df_pared['folder_lap'].isin(bad_laps), :].copy()\n",
    "    df_pared['lap_time'].describe()"
   ]
  },
  {
   "cell_type": "markdown",
   "id": "01484a1d-a26d-4a68-b2bb-0d3eab53cd24",
   "metadata": {},
   "source": [
    "#### Separate lap types"
   ]
  },
  {
   "cell_type": "code",
   "execution_count": 22,
   "id": "726bbefb-ab8b-49b6-ab84-f391a88992dd",
   "metadata": {
    "tags": []
   },
   "outputs": [],
   "source": [
    "df_first_laps = df_pared.loc[df_pared['folder_lap'].isin(first_lap_list)].copy()\n",
    "df_later_laps = df_pared.loc[df_pared['folder_lap'].isin(later_lap_list)].copy()"
   ]
  },
  {
   "cell_type": "markdown",
   "id": "09ee5426-e04a-40e1-b23b-b6731532a9f8",
   "metadata": {},
   "source": [
    "#### First laps"
   ]
  },
  {
   "cell_type": "code",
   "execution_count": 23,
   "id": "505e2877-ca80-4523-ba04-fa348f3a4bb0",
   "metadata": {},
   "outputs": [
    {
     "data": {
      "text/plain": [
       "count    64684.000000\n",
       "mean        19.792005\n",
       "std          0.076201\n",
       "min         19.599609\n",
       "25%         19.750000\n",
       "50%         19.799805\n",
       "75%         19.849609\n",
       "max         19.950195\n",
       "Name: lap_time, dtype: float64"
      ]
     },
     "execution_count": 23,
     "metadata": {},
     "output_type": "execute_result"
    }
   ],
   "source": [
    "df_first_laps['lap_time'].describe()"
   ]
  },
  {
   "cell_type": "markdown",
   "id": "7cb0141d-7d63-41e9-97df-68d456f8175f",
   "metadata": {},
   "source": [
    "##### Pare outliers from first laps"
   ]
  },
  {
   "cell_type": "code",
   "execution_count": 24,
   "id": "21a1d6d4-3257-4beb-860f-4c50a8a069ce",
   "metadata": {},
   "outputs": [
    {
     "data": {
      "text/plain": [
       "37203"
      ]
     },
     "metadata": {},
     "output_type": "display_data"
    }
   ],
   "source": [
    "first_lap_cut = 19.8 # entirely arbitrary\n",
    "display(len(df_first_laps.loc[df_first_laps['lap_time'] <= first_lap_cut, :]))\n",
    "df_first_laps = df_first_laps.loc[df_first_laps['lap_time'] <= first_lap_cut, :].copy()\n",
    "# len(df_first_laps)"
   ]
  },
  {
   "cell_type": "code",
   "execution_count": 25,
   "id": "d83d419e-edc1-467e-ac1b-7ab6c5b98998",
   "metadata": {},
   "outputs": [
    {
     "data": {
      "image/png": "[encoded data removed]",
      "text/plain": [
       "<Figure size 720x720 with 2 Axes>"
      ]
     },
     "metadata": {
      "needs_background": "light"
     },
     "output_type": "display_data"
    }
   ],
   "source": [
    "fig, ax = plt.subplots(2, 1, figsize=(10,10))\n",
    "plt.suptitle('Distribution of Lap Times in Seconds: First Laps', size=15)\n",
    "ax[0] = sns.histplot(x=df_first_laps['lap_time'].unique(), bins='auto', ax=ax[0])\n",
    "ax[0].set_xlabel('Lap Time (Seconds)', size=12)\n",
    "ax[1] = sns.boxplot(x=df_first_laps['lap_time'].unique(), ax=ax[1])\n",
    "ax[1].set_xlabel('Lap Time (Seconds)', size=12)\n",
    "plt.tight_layout();"
   ]
  },
  {
   "cell_type": "markdown",
   "id": "0ca75cbc-a2dd-414d-8e3f-cce68a5fe204",
   "metadata": {
    "tags": []
   },
   "source": [
    "#### Later laps"
   ]
  },
  {
   "cell_type": "code",
   "execution_count": 26,
   "id": "796c9257-eb27-4678-9b01-d371004392dc",
   "metadata": {},
   "outputs": [
    {
     "data": {
      "text/plain": [
       "count    518731.000000\n",
       "mean         18.346045\n",
       "std           0.158790\n",
       "min          18.000000\n",
       "25%          18.250000\n",
       "50%          18.300781\n",
       "75%          18.400391\n",
       "max          18.900391\n",
       "Name: lap_time, dtype: float64"
      ]
     },
     "execution_count": 26,
     "metadata": {},
     "output_type": "execute_result"
    }
   ],
   "source": [
    "df_later_laps['lap_time'].describe()"
   ]
  },
  {
   "cell_type": "markdown",
   "id": "5e0c4cf8-52be-4d31-bca9-0a47a65c99fa",
   "metadata": {},
   "source": [
    "##### Pare outliers from later lap times"
   ]
  },
  {
   "cell_type": "code",
   "execution_count": 30,
   "id": "85ce8b28-8107-4e0f-bcee-a4a18b220cea",
   "metadata": {},
   "outputs": [
    {
     "data": {
      "text/plain": [
       "177691"
      ]
     },
     "metadata": {},
     "output_type": "display_data"
    }
   ],
   "source": [
    "later_lap_cut = 18.25 # again, arbitrary\n",
    "display(len(df_later_laps.loc[df_later_laps['lap_time'] <= later_lap_cut, :]))\n",
    "df_later_laps = df_later_laps.loc[df_later_laps['lap_time'] <= later_lap_cut, :].copy()\n",
    "# len(df_later_laps)"
   ]
  },
  {
   "cell_type": "code",
   "execution_count": 31,
   "id": "151dc164-b42c-4f5c-a400-629ae9894d0d",
   "metadata": {},
   "outputs": [
    {
     "data": {
      "image/png": "[encoded data removed]",
      "text/plain": [
       "<Figure size 720x720 with 2 Axes>"
      ]
     },
     "metadata": {
      "needs_background": "light"
     },
     "output_type": "display_data"
    }
   ],
   "source": [
    "fig, ax = plt.subplots(2, 1, figsize=(10,10))\n",
    "plt.suptitle('Distribution of Lap Times in Seconds: Later Laps', size=15)\n",
    "ax[0] = sns.histplot(x=df_later_laps['lap_time'].unique(), bins=20, ax=ax[0])\n",
    "ax[0].set_xlabel('Lap Time (Seconds)', size=12)\n",
    "ax[1] = sns.boxplot(x=df_later_laps['lap_time'].unique(), ax=ax[1])\n",
    "ax[1].set_xlabel('Lap Time (Seconds)', size=12)\n",
    "plt.tight_layout();"
   ]
  },
  {
   "cell_type": "markdown",
   "id": "a8eb2d3a-97ea-46bd-8847-a7a317c13165",
   "metadata": {},
   "source": [
    "#### Mark lap types"
   ]
  },
  {
   "cell_type": "code",
   "execution_count": 32,
   "id": "9c8f0106-0788-42db-87c9-3720eddd5b3b",
   "metadata": {},
   "outputs": [],
   "source": [
    "df_first_laps.loc[:, 'lap_type'] = 'first'\n",
    "df_later_laps.loc[:, 'lap_type'] = 'later'"
   ]
  },
  {
   "cell_type": "markdown",
   "id": "706053b0-03d6-4a42-a7d4-bac3ee4de560",
   "metadata": {},
   "source": [
    "#### Combine pared laps"
   ]
  },
  {
   "cell_type": "code",
   "execution_count": 33,
   "id": "cd39ca3c-bda0-4a19-a9f3-bcb73ba4c94e",
   "metadata": {},
   "outputs": [
    {
     "data": {
      "text/html": [
       "<div>\n",
       "<style scoped>\n",
       "    .dataframe tbody tr th:only-of-type {\n",
       "        vertical-align: middle;\n",
       "    }\n",
       "\n",
       "    .dataframe tbody tr th {\n",
       "        vertical-align: top;\n",
       "    }\n",
       "\n",
       "    .dataframe thead th {\n",
       "        text-align: right;\n",
       "    }\n",
       "</style>\n",
       "<table border=\"1\" class=\"dataframe\">\n",
       "  <thead>\n",
       "    <tr style=\"text-align: right;\">\n",
       "      <th></th>\n",
       "      <th>steering</th>\n",
       "      <th>throttle</th>\n",
       "      <th>speed</th>\n",
       "      <th>image</th>\n",
       "      <th>hit</th>\n",
       "      <th>time</th>\n",
       "      <th>accel_x</th>\n",
       "      <th>accel_y</th>\n",
       "      <th>accel_z</th>\n",
       "      <th>gyro_x</th>\n",
       "      <th>...</th>\n",
       "      <th>pos_z</th>\n",
       "      <th>vel_x</th>\n",
       "      <th>vel_y</th>\n",
       "      <th>vel_z</th>\n",
       "      <th>lap</th>\n",
       "      <th>folder</th>\n",
       "      <th>folder_lap</th>\n",
       "      <th>lap_time</th>\n",
       "      <th>lap_type</th>\n",
       "      <th>first_lap</th>\n",
       "    </tr>\n",
       "  </thead>\n",
       "  <tbody>\n",
       "    <tr>\n",
       "      <th>766</th>\n",
       "      <td>-0.045644</td>\n",
       "      <td>0.972396</td>\n",
       "      <td>6.974114</td>\n",
       "      <td>12435.94.PNG</td>\n",
       "      <td>none</td>\n",
       "      <td>12435.940430</td>\n",
       "      <td>12.047630</td>\n",
       "      <td>11.906170</td>\n",
       "      <td>20.755671</td>\n",
       "      <td>-0.000681</td>\n",
       "      <td>...</td>\n",
       "      <td>48.543098</td>\n",
       "      <td>0.077530</td>\n",
       "      <td>-0.225656</td>\n",
       "      <td>6.970031</td>\n",
       "      <td>1</td>\n",
       "      <td>01_25_2022/16_15_50</td>\n",
       "      <td>01_25_2022/16_15_50_1</td>\n",
       "      <td>19.799805</td>\n",
       "      <td>first</td>\n",
       "      <td>1</td>\n",
       "    </tr>\n",
       "    <tr>\n",
       "      <th>767</th>\n",
       "      <td>-0.045644</td>\n",
       "      <td>0.972396</td>\n",
       "      <td>7.331553</td>\n",
       "      <td>12435.99.PNG</td>\n",
       "      <td>none</td>\n",
       "      <td>12435.990234</td>\n",
       "      <td>0.032386</td>\n",
       "      <td>3.775789</td>\n",
       "      <td>6.711149</td>\n",
       "      <td>0.000576</td>\n",
       "      <td>...</td>\n",
       "      <td>48.183861</td>\n",
       "      <td>-0.039138</td>\n",
       "      <td>0.088674</td>\n",
       "      <td>7.330912</td>\n",
       "      <td>1</td>\n",
       "      <td>01_25_2022/16_15_50</td>\n",
       "      <td>01_25_2022/16_15_50_1</td>\n",
       "      <td>19.799805</td>\n",
       "      <td>first</td>\n",
       "      <td>1</td>\n",
       "    </tr>\n",
       "    <tr>\n",
       "      <th>768</th>\n",
       "      <td>-0.045644</td>\n",
       "      <td>0.972396</td>\n",
       "      <td>7.698823</td>\n",
       "      <td>12436.04.PNG</td>\n",
       "      <td>none</td>\n",
       "      <td>12436.040039</td>\n",
       "      <td>0.038004</td>\n",
       "      <td>-0.865520</td>\n",
       "      <td>7.630444</td>\n",
       "      <td>0.000829</td>\n",
       "      <td>...</td>\n",
       "      <td>47.808739</td>\n",
       "      <td>-0.037229</td>\n",
       "      <td>0.106391</td>\n",
       "      <td>7.697998</td>\n",
       "      <td>1</td>\n",
       "      <td>01_25_2022/16_15_50</td>\n",
       "      <td>01_25_2022/16_15_50_1</td>\n",
       "      <td>19.799805</td>\n",
       "      <td>first</td>\n",
       "      <td>1</td>\n",
       "    </tr>\n",
       "    <tr>\n",
       "      <th>769</th>\n",
       "      <td>-0.091847</td>\n",
       "      <td>0.974485</td>\n",
       "      <td>8.089861</td>\n",
       "      <td>12436.09.PNG</td>\n",
       "      <td>none</td>\n",
       "      <td>12436.089844</td>\n",
       "      <td>-0.146884</td>\n",
       "      <td>-1.999657</td>\n",
       "      <td>8.106422</td>\n",
       "      <td>0.000988</td>\n",
       "      <td>...</td>\n",
       "      <td>47.414970</td>\n",
       "      <td>-0.049751</td>\n",
       "      <td>0.016513</td>\n",
       "      <td>8.089691</td>\n",
       "      <td>1</td>\n",
       "      <td>01_25_2022/16_15_50</td>\n",
       "      <td>01_25_2022/16_15_50_1</td>\n",
       "      <td>19.799805</td>\n",
       "      <td>first</td>\n",
       "      <td>1</td>\n",
       "    </tr>\n",
       "    <tr>\n",
       "      <th>770</th>\n",
       "      <td>-0.091847</td>\n",
       "      <td>0.974485</td>\n",
       "      <td>8.490166</td>\n",
       "      <td>12436.14.PNG</td>\n",
       "      <td>none</td>\n",
       "      <td>12436.139648</td>\n",
       "      <td>0.184599</td>\n",
       "      <td>-37.486408</td>\n",
       "      <td>6.197834</td>\n",
       "      <td>0.004141</td>\n",
       "      <td>...</td>\n",
       "      <td>47.003052</td>\n",
       "      <td>-0.050176</td>\n",
       "      <td>-0.436539</td>\n",
       "      <td>8.478787</td>\n",
       "      <td>1</td>\n",
       "      <td>01_25_2022/16_15_50</td>\n",
       "      <td>01_25_2022/16_15_50_1</td>\n",
       "      <td>19.799805</td>\n",
       "      <td>first</td>\n",
       "      <td>1</td>\n",
       "    </tr>\n",
       "  </tbody>\n",
       "</table>\n",
       "<p>5 rows × 31 columns</p>\n",
       "</div>"
      ],
      "text/plain": [
       "     steering  throttle     speed         image   hit          time  \\\n",
       "766 -0.045644  0.972396  6.974114  12435.94.PNG  none  12435.940430   \n",
       "767 -0.045644  0.972396  7.331553  12435.99.PNG  none  12435.990234   \n",
       "768 -0.045644  0.972396  7.698823  12436.04.PNG  none  12436.040039   \n",
       "769 -0.091847  0.974485  8.089861  12436.09.PNG  none  12436.089844   \n",
       "770 -0.091847  0.974485  8.490166  12436.14.PNG  none  12436.139648   \n",
       "\n",
       "       accel_x    accel_y    accel_z    gyro_x  ...      pos_z     vel_x  \\\n",
       "766  12.047630  11.906170  20.755671 -0.000681  ...  48.543098  0.077530   \n",
       "767   0.032386   3.775789   6.711149  0.000576  ...  48.183861 -0.039138   \n",
       "768   0.038004  -0.865520   7.630444  0.000829  ...  47.808739 -0.037229   \n",
       "769  -0.146884  -1.999657   8.106422  0.000988  ...  47.414970 -0.049751   \n",
       "770   0.184599 -37.486408   6.197834  0.004141  ...  47.003052 -0.050176   \n",
       "\n",
       "        vel_y     vel_z  lap               folder             folder_lap  \\\n",
       "766 -0.225656  6.970031    1  01_25_2022/16_15_50  01_25_2022/16_15_50_1   \n",
       "767  0.088674  7.330912    1  01_25_2022/16_15_50  01_25_2022/16_15_50_1   \n",
       "768  0.106391  7.697998    1  01_25_2022/16_15_50  01_25_2022/16_15_50_1   \n",
       "769  0.016513  8.089691    1  01_25_2022/16_15_50  01_25_2022/16_15_50_1   \n",
       "770 -0.436539  8.478787    1  01_25_2022/16_15_50  01_25_2022/16_15_50_1   \n",
       "\n",
       "      lap_time lap_type  first_lap  \n",
       "766  19.799805    first          1  \n",
       "767  19.799805    first          1  \n",
       "768  19.799805    first          1  \n",
       "769  19.799805    first          1  \n",
       "770  19.799805    first          1  \n",
       "\n",
       "[5 rows x 31 columns]"
      ]
     },
     "execution_count": 33,
     "metadata": {},
     "output_type": "execute_result"
    }
   ],
   "source": [
    "df_combined = pd.concat([df_first_laps, df_later_laps])\n",
    "df_combined['first_lap'] = (df_combined['lap_type'] == 'first') * 1\n",
    "df_combined.head()"
   ]
  },
  {
   "cell_type": "code",
   "execution_count": 34,
   "id": "91da42d1-5aa2-499a-bbaa-4a209d985a84",
   "metadata": {},
   "outputs": [
    {
     "data": {
      "text/plain": [
       "count    581.000000\n",
       "mean      18.443421\n",
       "std        0.572302\n",
       "min       18.000000\n",
       "25%       18.150391\n",
       "50%       18.201172\n",
       "75%       18.250000\n",
       "max       19.799988\n",
       "Name: lap_time, dtype: float64"
      ]
     },
     "execution_count": 34,
     "metadata": {},
     "output_type": "execute_result"
    }
   ],
   "source": [
    "combined_laps = df_combined[['folder_lap', 'lap_time', 'lap_type']].drop_duplicates().copy()\n",
    "combined_laps = combined_laps.set_index('folder_lap').copy()\n",
    "\n",
    "combined_laps['lap_time'].describe()"
   ]
  },
  {
   "cell_type": "code",
   "execution_count": 35,
   "id": "405416b1-d855-40b3-81c0-80d1aedb8c38",
   "metadata": {},
   "outputs": [
    {
     "data": {
      "image/png": "[encoded data removed]",
      "text/plain": [
       "<Figure size 720x720 with 2 Axes>"
      ]
     },
     "metadata": {
      "needs_background": "light"
     },
     "output_type": "display_data"
    }
   ],
   "source": [
    "fig, ax = plt.subplots(2, 1, figsize=(10,10))\n",
    "plt.suptitle('Distribution of Lap Times in Seconds', size=15)\n",
    "ax[0] = sns.histplot(x='lap_time', data=combined_laps, hue='lap_type', bins=200, ax=ax[0], multiple='dodge',)# log_scale=(0, 10))\n",
    "ax[0].set_xlabel('Lap Time (Seconds)', size=12)\n",
    "ax[1] = sns.boxplot(x='lap_time', y='lap_type', data=combined_laps, hue='lap_type', ax=ax[1])\n",
    "ax[1].set_xlabel('Lap Time (Seconds)', size=12)\n",
    "plt.tight_layout();"
   ]
  },
  {
   "cell_type": "markdown",
   "id": "131f74f3-7095-4a05-87d4-cc5b8c0565f4",
   "metadata": {},
   "source": [
    "> and never the twain shall meet."
   ]
  },
  {
   "cell_type": "code",
   "execution_count": 36,
   "id": "81e68d8b-352f-407d-8dcf-3bd86ef9f22b",
   "metadata": {},
   "outputs": [],
   "source": [
    "# redundant \n",
    "# df_data = df_combined.loc[((df_combined['lap_type'] == 'first') & (df_combined['lap_time'] < first_lap_cut))\n",
    "                              # | ((df_combined['lap_type'] == 'later') & (df_combined['lap_time'] < later_lap_cut)), : ].copy()\n",
    "# df_data = df_data.sort_values(by=['folder_lap', 'time'], ascending=True).reset_index(drop=True)\n",
    "df_data = df_combined.copy()"
   ]
  },
  {
   "cell_type": "markdown",
   "id": "212ebb4a-eeaa-4bac-ab95-f36774610225",
   "metadata": {},
   "source": [
    "### Look at collisions"
   ]
  },
  {
   "cell_type": "code",
   "execution_count": null,
   "id": "0afb9162-df7a-4f59-82bb-572bbc28619f",
   "metadata": {
    "tags": []
   },
   "outputs": [],
   "source": [
    "no_hit_laps = []\n",
    "for fl in df_data['folder_lap'].unique():\n",
    "    # print(df_data.loc[df_data['folder_lap'] == fl, 'hit'].value_counts())\n",
    "    if len(df_data.loc[df_data['folder_lap'] == fl, 'hit'].unique()) == 1:\n",
    "        no_hit_laps.append(fl)\n",
    "no_hit_laps"
   ]
  },
  {
   "cell_type": "code",
   "execution_count": null,
   "id": "cf2f9e8a-e90a-4046-b70f-59f2f2ce9eca",
   "metadata": {},
   "outputs": [],
   "source": [
    "df_no_hit = df_data.loc[df_data['folder_lap'].isin(no_hit_laps), :]"
   ]
  },
  {
   "cell_type": "code",
   "execution_count": null,
   "id": "24253efe-a1a1-44ce-a17f-87743c0930cc",
   "metadata": {},
   "outputs": [],
   "source": [
    "fig, ax = plt.subplots(2, 1, figsize=(10,10))\n",
    "plt.suptitle('Distribution of Lap Times in Seconds', size=15)\n",
    "ax[0] = sns.histplot(x='lap_time', data=df_no_hit, hue='lap_type', bins='auto', ax=ax[0], multiple='dodge',)# log_scale=(0, 10))\n",
    "ax[0].set_xlabel('Lap Time (Seconds)', size=12)\n",
    "ax[1] = sns.boxplot(x='lap_time', y='lap_type', data=df_no_hit, hue='lap_type', ax=ax[1])\n",
    "ax[1].set_xlabel('Lap Time (Seconds)', size=12)\n",
    "plt.tight_layout();"
   ]
  },
  {
   "cell_type": "code",
   "execution_count": null,
   "id": "3a4fc8d1-c244-44b7-832f-006c9f7b51ce",
   "metadata": {},
   "outputs": [],
   "source": [
    "df_no_hit['lap_time'].describe()"
   ]
  },
  {
   "cell_type": "code",
   "execution_count": null,
   "id": "28bd9978-5ddd-4772-acf5-42a7ba71893a",
   "metadata": {},
   "outputs": [],
   "source": [
    "one_hit_laps = []\n",
    "for fl in df_data['folder_lap'].unique():\n",
    "    # print(df_data.loc[df_data['folder_lap'] == fl, 'hit'].value_counts())\n",
    "    if len(df_data.loc[df_data['folder_lap'] == fl, 'hit'].unique()) == 2:\n",
    "        # print(df_data.loc[df_data['folder_lap'] == fl, 'hit'].value_counts())\n",
    "        one_hit_laps.append(fl)\n",
    "# one_hit_laps"
   ]
  },
  {
   "cell_type": "code",
   "execution_count": null,
   "id": "c79bff8a-9c9e-4e0d-80ca-7434cee4d449",
   "metadata": {},
   "outputs": [],
   "source": [
    "df_one_hit = df_data.loc[df_data['folder_lap'].isin(one_hit_laps), :]"
   ]
  },
  {
   "cell_type": "code",
   "execution_count": null,
   "id": "d40cbda7-7f34-4a0e-a303-599b3d545955",
   "metadata": {},
   "outputs": [],
   "source": [
    "fig, ax = plt.subplots(2, 1, figsize=(10,10))\n",
    "plt.suptitle('Distribution of Lap Times in Seconds', size=15)\n",
    "ax[0] = sns.histplot(x='lap_time', data=df_one_hit, hue='lap_type', bins='auto', ax=ax[0], multiple='dodge',)# log_scale=(0, 10))\n",
    "ax[0].set_xlabel('Lap Time (Seconds)', size=12)\n",
    "ax[1] = sns.boxplot(x='lap_time', y='lap_type', data=df_one_hit, hue='lap_type', ax=ax[1])\n",
    "ax[1].set_xlabel('Lap Time (Seconds)', size=12)\n",
    "plt.tight_layout();"
   ]
  },
  {
   "cell_type": "code",
   "execution_count": null,
   "id": "72724a81-5de1-48e0-bb02-037d1575c365",
   "metadata": {},
   "outputs": [],
   "source": [
    "df_one_hit['lap_time'].describe()"
   ]
  },
  {
   "cell_type": "markdown",
   "id": "5dd396cd-897f-4cd2-8b8b-a0824ca68cbc",
   "metadata": {
    "tags": []
   },
   "source": [
    "#### Save lap data for plotting"
   ]
  },
  {
   "cell_type": "code",
   "execution_count": 37,
   "id": "0baf67a8-d6fe-49be-9264-d25ca3d314da",
   "metadata": {},
   "outputs": [],
   "source": [
    "for d in [df_data, df_first_laps, df_later_laps]:\n",
    "    d = d.sort_values(by=['folder_lap', 'time']).copy()\n",
    "    d = d.reset_index(drop=True).copy()\n",
    "\n",
    "# df_data = df_data.sort_values(by=['folder_lap', 'time']).copy()\n",
    "# df_data = df_data.reset_index(drop=True).copy()"
   ]
  },
  {
   "cell_type": "code",
   "execution_count": 38,
   "id": "35359b71-35e2-48b6-af89-cd8ce09fd199",
   "metadata": {},
   "outputs": [],
   "source": [
    "# For plotting trajectories later\n",
    "df_data.to_pickle(combined_laps_file)\n",
    "df_first_laps.to_pickle(first_laps_file)\n",
    "df_later_laps.to_pickle(later_laps_file)"
   ]
  },
  {
   "cell_type": "markdown",
   "id": "7eb16f88-f0fc-4d09-b709-2f1d8b6ffd45",
   "metadata": {},
   "source": [
    "### Examine IMU data"
   ]
  },
  {
   "cell_type": "code",
   "execution_count": null,
   "id": "9aa184d7-4647-417b-8352-d875bcd99e35",
   "metadata": {
    "tags": []
   },
   "outputs": [],
   "source": [
    "X_imu = df_data[imu_data]\n",
    "X_imu.describe()"
   ]
  },
  {
   "cell_type": "markdown",
   "id": "ddaaf4e7-6806-44a5-b5bc-d93a808174df",
   "metadata": {},
   "source": [
    "### Look for IMU Outliers\n",
    "> Note: This is mucking about by hand with arbitrarily chosen values. You might be able to skip this."
   ]
  },
  {
   "cell_type": "code",
   "execution_count": null,
   "id": "ef515528-c97d-4751-9bb1-7f8f5b0a9177",
   "metadata": {},
   "outputs": [],
   "source": [
    "colors = [f'C{i}' for i in range(len(X_imu.columns))]\n",
    "\n",
    "fig, ax = plt.subplots(2, 3, figsize=(21, 12))\n",
    "\n",
    "fig.suptitle('IMU Data', size=15)\n",
    "\n",
    "accel_scale = max(max(X_imu[col].max(), abs(X_imu[col].min())) for col in ['accel_x', 'accel_y', 'accel_z']) * 1.1\n",
    "X_imu['accel_x'].plot(ax=ax[0][0], xticks=[], ylim=(-accel_scale, accel_scale), xlabel='Accelerometer X', color=colors[0])\n",
    "X_imu['accel_y'].plot(ax=ax[0][1], xticks=[], ylim=(-accel_scale, accel_scale), xlabel='Accelerometer Y', color=colors[1])\n",
    "X_imu['accel_z'].plot(ax=ax[0][2], xticks=[], ylim=(-accel_scale, accel_scale), xlabel='Accelerometer Z', color=colors[2])\n",
    "\n",
    "gyro_scale = max(max(X_imu[col].max(), abs(X_imu[col].min())) for col in ['gyro_x', 'gyro_y', 'gyro_z']) * 1.1\n",
    "X_imu['gyro_x'].plot(ax=ax[1][0], xticks=[], ylim=(-gyro_scale, gyro_scale), xlabel='Gyroscope X', color=colors[3])\n",
    "X_imu['gyro_y'].plot(ax=ax[1][1], xticks=[], ylim=(-gyro_scale, gyro_scale), xlabel='Gyroscope Y', color=colors[4])\n",
    "X_imu['gyro_z'].plot(ax=ax[1][2], xticks=[], ylim=(-gyro_scale, gyro_scale), xlabel='Gyroscope Z', color=colors[5])\n",
    "\n",
    "# vel_scale = max(max(X_imu[col].max(), abs(X_imu[col].min())) for col in ['vel_x', 'vel_y', 'vel_z']) * 1.1\n",
    "# X_imu['vel_x'].plot(ax=ax[2][0], xticks=[], ylim=(-vel_scale, vel_scale), xlabel='Velocity X', color=colors[6])\n",
    "# X_imu['vel_y'].plot(ax=ax[2][1], xticks=[], ylim=(-vel_scale, vel_scale), xlabel='Velocity Y', color=colors[7])\n",
    "# X_imu['vel_z'].plot(ax=ax[2][2], xticks=[], ylim=(-vel_scale, vel_scale), xlabel='Velocity Z', color=colors[8])\n",
    "\n",
    "for i in range(len(ax)):\n",
    "    for j in range(len(ax[0])):\n",
    "        ax[i][j].axhline(y=0, color='black', linewidth=0.5)\n",
    "\n",
    "plt.tight_layout();"
   ]
  },
  {
   "cell_type": "code",
   "execution_count": null,
   "id": "d0a70c4c-30e7-4fae-b7f7-dc30f93eafec",
   "metadata": {},
   "outputs": [],
   "source": [
    "imu_outliers = set()"
   ]
  },
  {
   "cell_type": "code",
   "execution_count": null,
   "id": "4656bab1-1a60-423d-878d-6c3aeab876b6",
   "metadata": {},
   "outputs": [],
   "source": [
    "## probably collisions\n",
    "display(X_imu.loc[(X_imu['accel_x'] < -60) | (X_imu['accel_x'] > 60)])\n",
    "imu_outliers.update(X_imu.loc[(X_imu['accel_x'] < -60) | (X_imu['accel_x'] > 60)].index.tolist())"
   ]
  },
  {
   "cell_type": "code",
   "execution_count": null,
   "id": "d9f45507-fa56-4ac5-976d-af1aa01d91e5",
   "metadata": {},
   "outputs": [],
   "source": [
    "display(X_imu.loc[(X_imu['accel_y'] < -50) | (X_imu['accel_y'] > 50)])\n",
    "imu_outliers.update(X_imu.loc[(X_imu['accel_y'] < -50) | (X_imu['accel_y'] > 50)].index.tolist())"
   ]
  },
  {
   "cell_type": "code",
   "execution_count": null,
   "id": "9f09c0f0-d19e-48d6-9055-389b2be17748",
   "metadata": {},
   "outputs": [],
   "source": [
    "## probably collisions\n",
    "display(X_imu.loc[(X_imu['accel_z'] < -50) | (X_imu['accel_z'] > 50)])\n",
    "imu_outliers.update(X_imu.loc[(X_imu['accel_z'] < -50) | (X_imu['accel_z'] > 50)].index.tolist())"
   ]
  },
  {
   "cell_type": "code",
   "execution_count": null,
   "id": "2d9447f1-3940-4c65-9b83-bbd7935d1b59",
   "metadata": {},
   "outputs": [],
   "source": [
    "display(X_imu.loc[(X_imu['gyro_x'] < -0.01) | (X_imu['gyro_x'] > 0.01)])\n",
    "imu_outliers.update(X_imu.loc[(X_imu['gyro_x'] < -0.01) | (X_imu['gyro_x'] > 0.01)].index.tolist())"
   ]
  },
  {
   "cell_type": "code",
   "execution_count": null,
   "id": "8e701320-79cc-4e43-b3b7-2cb12852bce5",
   "metadata": {},
   "outputs": [],
   "source": [
    "display(X_imu.loc[(X_imu['gyro_y'] < -0.015) | (X_imu['gyro_y'] > 0.015)])\n",
    "imu_outliers.update(X_imu.loc[(X_imu['gyro_y'] < -0.015) | (X_imu['gyro_y'] > 0.015)].index.tolist())"
   ]
  },
  {
   "cell_type": "code",
   "execution_count": null,
   "id": "bb54d843-76b3-42ae-a237-12d03b05060b",
   "metadata": {},
   "outputs": [],
   "source": [
    "display(X_imu.loc[(X_imu['gyro_z'] < -0.01) | (X_imu['gyro_z'] > 0.01)])\n",
    "imu_outliers.update(X_imu.loc[(X_imu['gyro_z'] < -0.01) | (X_imu['gyro_z'] > 0.01)].index.tolist())"
   ]
  },
  {
   "cell_type": "code",
   "execution_count": null,
   "id": "2af47097-cd04-4376-8655-9001d713d89a",
   "metadata": {},
   "outputs": [],
   "source": [
    "# DON'T DO THIS BASED ON MY NUMBERS.\n",
    "print(imu_outliers)"
   ]
  },
  {
   "cell_type": "code",
   "execution_count": null,
   "id": "0c5612a7-719b-40ea-a9ee-6f08476fb553",
   "metadata": {},
   "outputs": [],
   "source": [
    "X_imu = X_imu.drop(imu_outliers).copy()"
   ]
  },
  {
   "cell_type": "markdown",
   "id": "53b21c4d-c984-4702-9a42-d59cc2844dbf",
   "metadata": {},
   "source": [
    "#### Plot"
   ]
  },
  {
   "cell_type": "code",
   "execution_count": null,
   "id": "3e974aa0-dedd-4644-80f7-a91c21a3ac36",
   "metadata": {},
   "outputs": [],
   "source": [
    "colors = [f'C{i}' for i in range(len(X_imu.columns))]\n",
    "\n",
    "fig, ax = plt.subplots(2, 3, figsize=(21, 12))\n",
    "\n",
    "fig.suptitle('IMU Data', size=15)\n",
    "\n",
    "accel_scale = max(max(X_imu[col].max(), abs(X_imu[col].min())) for col in ['accel_x', 'accel_y', 'accel_z']) * 1.1\n",
    "X_imu['accel_x'].plot(ax=ax[0][0], xticks=[], ylim=(-accel_scale, accel_scale), xlabel='Accelerometer X', color=colors[0])\n",
    "X_imu['accel_y'].plot(ax=ax[0][1], xticks=[], ylim=(-accel_scale, accel_scale), xlabel='Accelerometer Y', color=colors[1])\n",
    "X_imu['accel_z'].plot(ax=ax[0][2], xticks=[], ylim=(-accel_scale, accel_scale), xlabel='Accelerometer Z', color=colors[2])\n",
    "\n",
    "gyro_scale = max(max(X_imu[col].max(), abs(X_imu[col].min())) for col in ['gyro_x', 'gyro_y', 'gyro_z']) * 1.1\n",
    "X_imu['gyro_x'].plot(ax=ax[1][0], xticks=[], ylim=(-gyro_scale, gyro_scale), xlabel='Gyroscope X', color=colors[3])\n",
    "X_imu['gyro_y'].plot(ax=ax[1][1], xticks=[], ylim=(-gyro_scale, gyro_scale), xlabel='Gyroscope Y', color=colors[4])\n",
    "X_imu['gyro_z'].plot(ax=ax[1][2], xticks=[], ylim=(-gyro_scale, gyro_scale), xlabel='Gyroscope Z', color=colors[5])\n",
    "\n",
    "# vel_scale = max(max(X_imu[col].max(), abs(X_imu[col].min())) for col in ['vel_x', 'vel_y', 'vel_z']) * 1.1\n",
    "# X_imu['vel_x'].plot(ax=ax[2][0], xticks=[], ylim=(-vel_scale, vel_scale), xlabel='Velocity X', color=colors[6])\n",
    "# X_imu['vel_y'].plot(ax=ax[2][1], xticks=[], ylim=(-vel_scale, vel_scale), xlabel='Velocity Y', color=colors[7])\n",
    "# X_imu['vel_z'].plot(ax=ax[2][2], xticks=[], ylim=(-vel_scale, vel_scale), xlabel='Velocity Z', color=colors[8])\n",
    "\n",
    "for i in range(len(ax)):\n",
    "    for j in range(len(ax[0])):\n",
    "        ax[i][j].axhline(y=0, color='black', linewidth=0.5)\n",
    "\n",
    "plt.tight_layout();"
   ]
  },
  {
   "cell_type": "markdown",
   "id": "1a6d5096-b7bf-4215-be53-b157f385349a",
   "metadata": {},
   "source": [
    "*Comment*:\n",
    "* The sheer number of laps makes it difficult to analyize when plotted together like thist"
   ]
  },
  {
   "cell_type": "markdown",
   "id": "6c7bb922-695b-412e-90b6-399ef3fc2e49",
   "metadata": {
    "tags": []
   },
   "source": [
    "### Examine Telemetry Data"
   ]
  },
  {
   "cell_type": "code",
   "execution_count": null,
   "id": "419a8ce6-7edf-4c86-9891-1b4f34bf7e67",
   "metadata": {},
   "outputs": [],
   "source": [
    "## Uncomment to drop the IMU ourliers if you care to\n",
    "# df_data = df_data.drop(imu_oulier_indices).copy()"
   ]
  },
  {
   "cell_type": "markdown",
   "id": "9e3b387b-6f4c-40fa-9722-49a1a558fedb",
   "metadata": {},
   "source": [
    "### Random Lap Cut\n",
    "Found by plotting"
   ]
  },
  {
   "cell_type": "code",
   "execution_count": 42,
   "id": "96ee834c-f63f-491b-b41c-068fcf0446c8",
   "metadata": {},
   "outputs": [],
   "source": [
    "# df_data = df_one_hit.copy()\n",
    "# df_data = df_data.loc[df_data['folder_lap'] != '01_14_2022/13_00_37_177', : ].copy()\n",
    "df_data = df_data.sort_values(by=['folder_lap', 'time']).copy()\n",
    "df_data = df_data.reset_index(drop=True)"
   ]
  },
  {
   "cell_type": "markdown",
   "id": "39039752-b9a0-49e2-bd32-e764e31ac652",
   "metadata": {},
   "source": [
    "### Create Telemety DF"
   ]
  },
  {
   "cell_type": "code",
   "execution_count": 43,
   "id": "a2a81797-66da-4597-9c37-f35f52dc746c",
   "metadata": {},
   "outputs": [
    {
     "data": {
      "text/html": [
       "<div>\n",
       "<style scoped>\n",
       "    .dataframe tbody tr th:only-of-type {\n",
       "        vertical-align: middle;\n",
       "    }\n",
       "\n",
       "    .dataframe tbody tr th {\n",
       "        vertical-align: top;\n",
       "    }\n",
       "\n",
       "    .dataframe thead th {\n",
       "        text-align: right;\n",
       "    }\n",
       "</style>\n",
       "<table border=\"1\" class=\"dataframe\">\n",
       "  <thead>\n",
       "    <tr style=\"text-align: right;\">\n",
       "      <th></th>\n",
       "      <th>speed</th>\n",
       "      <th>yaw</th>\n",
       "      <th>activeNode</th>\n",
       "      <th>first_lap</th>\n",
       "    </tr>\n",
       "  </thead>\n",
       "  <tbody>\n",
       "    <tr>\n",
       "      <th>count</th>\n",
       "      <td>214894.000000</td>\n",
       "      <td>214894.000000</td>\n",
       "      <td>214894.000000</td>\n",
       "      <td>214894.000000</td>\n",
       "    </tr>\n",
       "    <tr>\n",
       "      <th>mean</th>\n",
       "      <td>25.784119</td>\n",
       "      <td>182.315506</td>\n",
       "      <td>119.089486</td>\n",
       "      <td>0.173123</td>\n",
       "    </tr>\n",
       "    <tr>\n",
       "      <th>std</th>\n",
       "      <td>4.448546</td>\n",
       "      <td>108.925598</td>\n",
       "      <td>68.910360</td>\n",
       "      <td>0.378354</td>\n",
       "    </tr>\n",
       "    <tr>\n",
       "      <th>min</th>\n",
       "      <td>6.505294</td>\n",
       "      <td>-0.005451</td>\n",
       "      <td>0.000000</td>\n",
       "      <td>0.000000</td>\n",
       "    </tr>\n",
       "    <tr>\n",
       "      <th>25%</th>\n",
       "      <td>22.301160</td>\n",
       "      <td>89.415241</td>\n",
       "      <td>64.000000</td>\n",
       "      <td>0.000000</td>\n",
       "    </tr>\n",
       "    <tr>\n",
       "      <th>50%</th>\n",
       "      <td>25.333395</td>\n",
       "      <td>193.197952</td>\n",
       "      <td>114.000000</td>\n",
       "      <td>0.000000</td>\n",
       "    </tr>\n",
       "    <tr>\n",
       "      <th>75%</th>\n",
       "      <td>30.343008</td>\n",
       "      <td>271.421898</td>\n",
       "      <td>175.000000</td>\n",
       "      <td>0.000000</td>\n",
       "    </tr>\n",
       "    <tr>\n",
       "      <th>max</th>\n",
       "      <td>31.318180</td>\n",
       "      <td>359.992615</td>\n",
       "      <td>249.000000</td>\n",
       "      <td>1.000000</td>\n",
       "    </tr>\n",
       "  </tbody>\n",
       "</table>\n",
       "</div>"
      ],
      "text/plain": [
       "               speed            yaw     activeNode      first_lap\n",
       "count  214894.000000  214894.000000  214894.000000  214894.000000\n",
       "mean       25.784119     182.315506     119.089486       0.173123\n",
       "std         4.448546     108.925598      68.910360       0.378354\n",
       "min         6.505294      -0.005451       0.000000       0.000000\n",
       "25%        22.301160      89.415241      64.000000       0.000000\n",
       "50%        25.333395     193.197952     114.000000       0.000000\n",
       "75%        30.343008     271.421898     175.000000       0.000000\n",
       "max        31.318180     359.992615     249.000000       1.000000"
      ]
     },
     "execution_count": 43,
     "metadata": {},
     "output_type": "execute_result"
    }
   ],
   "source": [
    "X_telem = df_data[telemetry_columns]\n",
    "X_telem.describe()"
   ]
  },
  {
   "cell_type": "markdown",
   "id": "3eba2c8c-d490-4d86-925c-b6253b05c63e",
   "metadata": {},
   "source": [
    "#### Plot"
   ]
  },
  {
   "cell_type": "code",
   "execution_count": null,
   "id": "7f8f2b7f-d1c6-4758-895f-1cf56db54175",
   "metadata": {},
   "outputs": [],
   "source": [
    "# X_telem = X_telem.reset_index(drop=True)"
   ]
  },
  {
   "cell_type": "code",
   "execution_count": 40,
   "id": "1c10a744-7801-46c6-90d2-3d748de5773a",
   "metadata": {},
   "outputs": [
    {
     "data": {
      "text/plain": [
       "Index(['speed', 'yaw', 'activeNode', 'first_lap'], dtype='object')"
      ]
     },
     "execution_count": 40,
     "metadata": {},
     "output_type": "execute_result"
    }
   ],
   "source": [
    "X_telem.columns"
   ]
  },
  {
   "cell_type": "code",
   "execution_count": 44,
   "id": "cde93fea-ce26-4f43-b293-dfeda7da1fc3",
   "metadata": {},
   "outputs": [
    {
     "data": {
      "image/png": "[encoded data removed]",
      "text/plain": [
       "<Figure size 1512x936 with 4 Axes>"
      ]
     },
     "metadata": {
      "needs_background": "light"
     },
     "output_type": "display_data"
    }
   ],
   "source": [
    "colors = [f'C{i}' for i in range(len(X_telem.columns))]\n",
    "fig, ax = plt.subplots(len(telemetry_columns), 1, figsize=(21, len(telemetry_columns)*3 +1))\n",
    "fig.suptitle('Telemtry Data', size=15)\n",
    "for i in range(len(ax)):\n",
    "    ax[i] = X_telem[telemetry_columns[i]].plot(ax=ax[i], xticks=[], xlabel=telemetry_columns[i], color=colors[i])\n",
    "plt.tight_layout();"
   ]
  },
  {
   "cell_type": "markdown",
   "id": "d45bf272-4b55-4d01-9adb-f9ee4443d4cd",
   "metadata": {},
   "source": [
    "*Comment*:\n",
    "* see above. a mess."
   ]
  },
  {
   "cell_type": "markdown",
   "id": "936f6d81-b0fc-4f92-bd9b-ef1f32793f65",
   "metadata": {
    "tags": []
   },
   "source": [
    "### Dummify Nodes"
   ]
  },
  {
   "cell_type": "code",
   "execution_count": null,
   "id": "ba685ffb-6188-43f0-970b-5372674be565",
   "metadata": {},
   "outputs": [],
   "source": [
    "if dummify_nodes and 'activeNode' in telemetry_columns:\n",
    "    X_telem = pd.get_dummies(data=X_telem, columns=['activeNode'])\n",
    "X_telem.columns"
   ]
  },
  {
   "cell_type": "markdown",
   "id": "999f2a80-ccf2-4f07-8c75-b5e966f735fd",
   "metadata": {
    "tags": []
   },
   "source": [
    "### Save Telemetry Data"
   ]
  },
  {
   "cell_type": "code",
   "execution_count": 45,
   "id": "8bc3e199-6082-45f4-aa6b-fac4ed36de4f",
   "metadata": {},
   "outputs": [
    {
     "data": {
      "text/html": [
       "<div>\n",
       "<style scoped>\n",
       "    .dataframe tbody tr th:only-of-type {\n",
       "        vertical-align: middle;\n",
       "    }\n",
       "\n",
       "    .dataframe tbody tr th {\n",
       "        vertical-align: top;\n",
       "    }\n",
       "\n",
       "    .dataframe thead th {\n",
       "        text-align: right;\n",
       "    }\n",
       "</style>\n",
       "<table border=\"1\" class=\"dataframe\">\n",
       "  <thead>\n",
       "    <tr style=\"text-align: right;\">\n",
       "      <th></th>\n",
       "      <th>speed</th>\n",
       "      <th>yaw</th>\n",
       "      <th>activeNode</th>\n",
       "      <th>first_lap</th>\n",
       "    </tr>\n",
       "  </thead>\n",
       "  <tbody>\n",
       "    <tr>\n",
       "      <th>0</th>\n",
       "      <td>6.975486</td>\n",
       "      <td>177.881897</td>\n",
       "      <td>1</td>\n",
       "      <td>1</td>\n",
       "    </tr>\n",
       "    <tr>\n",
       "      <th>1</th>\n",
       "      <td>7.332412</td>\n",
       "      <td>177.846802</td>\n",
       "      <td>1</td>\n",
       "      <td>1</td>\n",
       "    </tr>\n",
       "    <tr>\n",
       "      <th>2</th>\n",
       "      <td>7.699350</td>\n",
       "      <td>177.696701</td>\n",
       "      <td>1</td>\n",
       "      <td>1</td>\n",
       "    </tr>\n",
       "    <tr>\n",
       "      <th>3</th>\n",
       "      <td>8.091217</td>\n",
       "      <td>177.461395</td>\n",
       "      <td>1</td>\n",
       "      <td>1</td>\n",
       "    </tr>\n",
       "    <tr>\n",
       "      <th>4</th>\n",
       "      <td>8.491880</td>\n",
       "      <td>177.206604</td>\n",
       "      <td>1</td>\n",
       "      <td>1</td>\n",
       "    </tr>\n",
       "    <tr>\n",
       "      <th>...</th>\n",
       "      <td>...</td>\n",
       "      <td>...</td>\n",
       "      <td>...</td>\n",
       "      <td>...</td>\n",
       "    </tr>\n",
       "    <tr>\n",
       "      <th>214889</th>\n",
       "      <td>30.743731</td>\n",
       "      <td>170.582108</td>\n",
       "      <td>247</td>\n",
       "      <td>0</td>\n",
       "    </tr>\n",
       "    <tr>\n",
       "      <th>214890</th>\n",
       "      <td>30.799549</td>\n",
       "      <td>171.569794</td>\n",
       "      <td>248</td>\n",
       "      <td>0</td>\n",
       "    </tr>\n",
       "    <tr>\n",
       "      <th>214891</th>\n",
       "      <td>30.859249</td>\n",
       "      <td>172.511795</td>\n",
       "      <td>249</td>\n",
       "      <td>0</td>\n",
       "    </tr>\n",
       "    <tr>\n",
       "      <th>214892</th>\n",
       "      <td>30.915739</td>\n",
       "      <td>173.962494</td>\n",
       "      <td>249</td>\n",
       "      <td>0</td>\n",
       "    </tr>\n",
       "    <tr>\n",
       "      <th>214893</th>\n",
       "      <td>30.967159</td>\n",
       "      <td>174.846695</td>\n",
       "      <td>0</td>\n",
       "      <td>0</td>\n",
       "    </tr>\n",
       "  </tbody>\n",
       "</table>\n",
       "<p>214894 rows × 4 columns</p>\n",
       "</div>"
      ],
      "text/plain": [
       "            speed         yaw  activeNode  first_lap\n",
       "0        6.975486  177.881897           1          1\n",
       "1        7.332412  177.846802           1          1\n",
       "2        7.699350  177.696701           1          1\n",
       "3        8.091217  177.461395           1          1\n",
       "4        8.491880  177.206604           1          1\n",
       "...           ...         ...         ...        ...\n",
       "214889  30.743731  170.582108         247          0\n",
       "214890  30.799549  171.569794         248          0\n",
       "214891  30.859249  172.511795         249          0\n",
       "214892  30.915739  173.962494         249          0\n",
       "214893  30.967159  174.846695           0          0\n",
       "\n",
       "[214894 rows x 4 columns]"
      ]
     },
     "execution_count": 45,
     "metadata": {},
     "output_type": "execute_result"
    }
   ],
   "source": [
    "X_telem"
   ]
  },
  {
   "cell_type": "markdown",
   "id": "19335978-9d2a-44bd-aaea-71f1a6ab37cf",
   "metadata": {},
   "source": [
    "#### On second thought, let's take a look at pitch and roll."
   ]
  },
  {
   "cell_type": "code",
   "execution_count": null,
   "id": "b23d912a-233f-4a42-b3ed-4f90c8d71e84",
   "metadata": {},
   "outputs": [],
   "source": [
    "# X_telem['pitch'].hist(bins=50);\n",
    "\n",
    "# X_telem['roll'].hist(bins=50);"
   ]
  },
  {
   "cell_type": "markdown",
   "id": "321459f6-b75e-45f6-806d-bf73d92081d1",
   "metadata": {},
   "source": [
    "> They don't look particularly helpful, so I'm dropping them"
   ]
  },
  {
   "cell_type": "code",
   "execution_count": null,
   "id": "1894de80-5b81-4dc8-b1d8-68ca1adff805",
   "metadata": {},
   "outputs": [],
   "source": [
    "# X_telem = X_telem.drop(columns=['pitch', 'roll']).copy() # trying leavin them in"
   ]
  },
  {
   "cell_type": "code",
   "execution_count": 46,
   "id": "67943165-a6bd-4c5c-b5ec-a5f7b463d1a4",
   "metadata": {
    "tags": []
   },
   "outputs": [],
   "source": [
    "## Save as pickle\n",
    "X_telem.to_pickle(telem_dataset_file)"
   ]
  },
  {
   "cell_type": "markdown",
   "id": "58c7f1e7-6fba-4dd2-a05d-cbb011c9c123",
   "metadata": {},
   "source": [
    "## Images"
   ]
  },
  {
   "cell_type": "markdown",
   "id": "e76833b4-bd2f-42b3-b6d1-113ad4be16ed",
   "metadata": {},
   "source": [
    "### Create Image Array\n",
    "> This is a hilariously slow way to do this."
   ]
  },
  {
   "cell_type": "code",
   "execution_count": null,
   "id": "9d6573a5-a56a-4b37-ab6b-618d4a42a984",
   "metadata": {},
   "outputs": [],
   "source": [
    "# X_img = np.empty((120, 160, 1))\n",
    "# X_img = np.empty(len(df_data))"
   ]
  },
  {
   "cell_type": "code",
   "execution_count": 47,
   "id": "7c5058f7-1567-470a-83a6-9ed77208ee3d",
   "metadata": {},
   "outputs": [],
   "source": [
    "## try saving to jpg (svaes memory, takes a long time)\n",
    "for row in df_data.itertuples():\n",
    "    png_file = f'{training_data_directory}/{row.folder}/images/{row.image}'\n",
    "    jpg_dir = f'{training_data_directory}/{row.folder}/images/jpg'\n",
    "    os.makedirs(jpg_dir, exist_ok=True)\n",
    "    jpg_file = f'{jpg_dir}/{row.image[:-4]}.jpg'\n",
    "    if not os.path.isfile(jpg_file): \n",
    "        load_img(png_file, color_mode='grayscale',).save(jpg_file)"
   ]
  },
  {
   "cell_type": "code",
   "execution_count": 48,
   "id": "53606721-ac9c-4ce1-8d3b-6b09317ffa0e",
   "metadata": {},
   "outputs": [],
   "source": [
    "image_files = [ f'{training_data_directory}/{row.folder}/images/jpg/{row.image[:-4]}.jpg' for row in df_data.itertuples()]"
   ]
  },
  {
   "cell_type": "code",
   "execution_count": 49,
   "id": "7b78afc6-1924-4050-bd5b-2a2113022aa0",
   "metadata": {},
   "outputs": [],
   "source": [
    "X_img = np.ndarray(shape=(len(df_data), 120, 160, 1),\n",
    "                     dtype='uint8')\n",
    "for i in range(len(df_data)):\n",
    "    X_img[i] = img_to_array(load_img(image_files[i], color_mode='grayscale',))"
   ]
  },
  {
   "cell_type": "code",
   "execution_count": 50,
   "id": "3e0835fb-05a2-4ddf-8462-041a615c8df5",
   "metadata": {},
   "outputs": [
    {
     "data": {
      "text/plain": [
       "array([[[172],\n",
       "        [172],\n",
       "        [171],\n",
       "        ...,\n",
       "        [145],\n",
       "        [145],\n",
       "        [145]],\n",
       "\n",
       "       [[173],\n",
       "        [172],\n",
       "        [172],\n",
       "        ...,\n",
       "        [145],\n",
       "        [145],\n",
       "        [145]],\n",
       "\n",
       "       [[174],\n",
       "        [174],\n",
       "        [173],\n",
       "        ...,\n",
       "        [146],\n",
       "        [146],\n",
       "        [146]],\n",
       "\n",
       "       ...,\n",
       "\n",
       "       [[ 81],\n",
       "        [ 91],\n",
       "        [ 96],\n",
       "        ...,\n",
       "        [ 80],\n",
       "        [ 82],\n",
       "        [ 84]],\n",
       "\n",
       "       [[ 92],\n",
       "        [104],\n",
       "        [100],\n",
       "        ...,\n",
       "        [ 82],\n",
       "        [ 84],\n",
       "        [ 86]],\n",
       "\n",
       "       [[193],\n",
       "        [195],\n",
       "        [164],\n",
       "        ...,\n",
       "        [ 82],\n",
       "        [ 84],\n",
       "        [ 86]]], dtype=uint8)"
      ]
     },
     "execution_count": 50,
     "metadata": {},
     "output_type": "execute_result"
    }
   ],
   "source": [
    "X_img[0]"
   ]
  },
  {
   "cell_type": "code",
   "execution_count": 51,
   "id": "3050df43-5401-43c7-8749-e5254e3a9e5e",
   "metadata": {},
   "outputs": [
    {
     "data": {
      "text/plain": [
       "(214894, 120, 160, 1)"
      ]
     },
     "execution_count": 51,
     "metadata": {},
     "output_type": "execute_result"
    }
   ],
   "source": [
    "X_img.shape"
   ]
  },
  {
   "cell_type": "markdown",
   "id": "a3b9c6dc-97b5-4118-b27c-ef73d1f107e7",
   "metadata": {},
   "source": [
    "## Datasets"
   ]
  },
  {
   "cell_type": "markdown",
   "id": "c962648f-409c-427a-8034-6faa9e086edb",
   "metadata": {},
   "source": [
    "### Create Targets"
   ]
  },
  {
   "cell_type": "code",
   "execution_count": 52,
   "id": "7fa02d0b-5894-4417-820c-9506d8c748b7",
   "metadata": {},
   "outputs": [
    {
     "name": "stdout",
     "output_type": "stream",
     "text": [
      "X.shape: (214894, 120, 160, 1)\n",
      "y.shape: (214894, 2)\n"
     ]
    }
   ],
   "source": [
    "## Target: throttle and steering data\n",
    "y = df_data.loc[:, ['steering', 'throttle']].to_numpy().copy()\n",
    "\n",
    "## Verify size\n",
    "print(f'X.shape: {X_img.shape}')\n",
    "print(f'y.shape: {y.shape}')"
   ]
  },
  {
   "cell_type": "markdown",
   "id": "ce504a00-93ee-45d7-85d4-1b7e07f83f98",
   "metadata": {},
   "source": [
    "### Save Datasets"
   ]
  },
  {
   "cell_type": "code",
   "execution_count": 53,
   "id": "92c3dde5-8447-42b0-a246-f2d2b384dd93",
   "metadata": {},
   "outputs": [],
   "source": [
    "## Save as binary NumPy .npy format\n",
    "with open(image_dataset_file, 'wb') as X_out:\n",
    "    np.save(file=X_out, arr=X_img)\n",
    "with open(target_dataset_file, 'wb') as y_out:\n",
    "    np.save(file=y_out, arr=y)"
   ]
  }
 ],
 "metadata": {
  "kernelspec": {
   "display_name": "Python 3 (ipykernel)",
   "language": "python",
   "name": "python3"
  },
  "language_info": {
   "codemirror_mode": {
    "name": "ipython",
    "version": 3
   },
   "file_extension": ".py",
   "mimetype": "text/x-python",
   "name": "python",
   "nbconvert_exporter": "python",
   "pygments_lexer": "ipython3",
   "version": "3.9.7"
  }
 },
 "nbformat": 4,
 "nbformat_minor": 5
}
